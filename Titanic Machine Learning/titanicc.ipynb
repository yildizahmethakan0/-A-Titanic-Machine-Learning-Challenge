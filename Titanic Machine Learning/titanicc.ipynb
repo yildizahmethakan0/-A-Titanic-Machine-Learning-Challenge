{
 "cells": [
  {
   "cell_type": "code",
   "execution_count": 1,
   "id": "9ff98e3c",
   "metadata": {
    "_cell_guid": "b1076dfc-b9ad-4769-8c92-a6c4dae69d19",
    "_uuid": "8f2839f25d086af736a60e9eeb907d3b93b6e0e5",
    "execution": {
     "iopub.execute_input": "2023-04-04T19:59:33.048721Z",
     "iopub.status.busy": "2023-04-04T19:59:33.048305Z",
     "iopub.status.idle": "2023-04-04T19:59:33.061007Z",
     "shell.execute_reply": "2023-04-04T19:59:33.060126Z"
    },
    "papermill": {
     "duration": 0.025627,
     "end_time": "2023-04-04T19:59:33.063486",
     "exception": false,
     "start_time": "2023-04-04T19:59:33.037859",
     "status": "completed"
    },
    "tags": []
   },
   "outputs": [
    {
     "name": "stdout",
     "output_type": "stream",
     "text": [
      "/kaggle/input/titanic/train.csv\n",
      "/kaggle/input/titanic/test.csv\n",
      "/kaggle/input/titanic/gender_submission.csv\n"
     ]
    }
   ],
   "source": [
   
    "\n",
    "import numpy as np # linear algebra\n",
    "import pandas as pd # data processing, CSV file I/O (e.g. pd.read_csv)\n",
    "\n",
    "# Input data files are available in the read-only \"../input/\" directory\n",
    "# For example, running this (by clicking run or pressing Shift+Enter) will list all files under the input directory\n",
    "\n",
    "import os\n",
    "for dirname, _, filenames in os.walk('/kaggle/input'):\n",
    "    for filename in filenames:\n",
    "        print(os.path.join(dirname, filename))\n",
    "\n",
   
   ]
  },
  {
   "cell_type": "code",
   "execution_count": 2,
   "id": "27a619f2",
   "metadata": {
    "execution": {
     "iopub.execute_input": "2023-04-04T19:59:33.080171Z",
     "iopub.status.busy": "2023-04-04T19:59:33.079759Z",
     "iopub.status.idle": "2023-04-04T19:59:34.250711Z",
     "shell.execute_reply": "2023-04-04T19:59:34.249749Z"
    },
    "papermill": {
     "duration": 1.182071,
     "end_time": "2023-04-04T19:59:34.253322",
     "exception": false,
     "start_time": "2023-04-04T19:59:33.071251",
     "status": "completed"
    },
    "tags": []
   },
   "outputs": [],
   "source": [
    "import numpy as np\n",
    "import pandas as pd \n",
    "import matplotlib.pyplot as plt\n",
    "from sklearn.impute import SimpleImputer"
   ]
  },
  {
   "cell_type": "code",
   "execution_count": 3,
   "id": "a7b3ef23",
   "metadata": {
    "execution": {
     "iopub.execute_input": "2023-04-04T19:59:34.271308Z",
     "iopub.status.busy": "2023-04-04T19:59:34.270084Z",
     "iopub.status.idle": "2023-04-04T19:59:34.298174Z",
     "shell.execute_reply": "2023-04-04T19:59:34.297199Z"
    },
    "papermill": {
     "duration": 0.039768,
     "end_time": "2023-04-04T19:59:34.300897",
     "exception": false,
     "start_time": "2023-04-04T19:59:34.261129",
     "status": "completed"
    },
    "tags": []
   },
   "outputs": [],
   "source": [
    "train_data = pd.read_csv(\"/kaggle/input/titanic/train.csv\")\n",
    "test_data = pd.read_csv(\"/kaggle/input/titanic/test.csv\")"
   ]
  },
  {
   "cell_type": "code",
   "execution_count": 4,
   "id": "fe416abd",
   "metadata": {
    "execution": {
     "iopub.execute_input": "2023-04-04T19:59:34.319059Z",
     "iopub.status.busy": "2023-04-04T19:59:34.318085Z",
     "iopub.status.idle": "2023-04-04T19:59:34.359107Z",
     "shell.execute_reply": "2023-04-04T19:59:34.358099Z"
    },
    "papermill": {
     "duration": 0.053079,
     "end_time": "2023-04-04T19:59:34.361718",
     "exception": false,
     "start_time": "2023-04-04T19:59:34.308639",
     "status": "completed"
    },
    "tags": []
   },
   "outputs": [
    {
     "data": {
      "text/html": [
       "<div>\n",
       "<style scoped>\n",
       "    .dataframe tbody tr th:only-of-type {\n",
       "        vertical-align: middle;\n",
       "    }\n",
       "\n",
       "    .dataframe tbody tr th {\n",
       "        vertical-align: top;\n",
       "    }\n",
       "\n",
       "    .dataframe thead th {\n",
       "        text-align: right;\n",
       "    }\n",
       "</style>\n",
       "<table border=\"1\" class=\"dataframe\">\n",
       "  <thead>\n",
       "    <tr style=\"text-align: right;\">\n",
       "      <th></th>\n",
       "      <th>PassengerId</th>\n",
       "      <th>Survived</th>\n",
       "      <th>Pclass</th>\n",
       "      <th>Name</th>\n",
       "      <th>Sex</th>\n",
       "      <th>Age</th>\n",
       "      <th>SibSp</th>\n",
       "      <th>Parch</th>\n",
       "      <th>Ticket</th>\n",
       "      <th>Fare</th>\n",
       "      <th>Cabin</th>\n",
       "      <th>Embarked</th>\n",
       "    </tr>\n",
       "  </thead>\n",
       "  <tbody>\n",
       "    <tr>\n",
       "      <th>0</th>\n",
       "      <td>1</td>\n",
       "      <td>0</td>\n",
       "      <td>3</td>\n",
       "      <td>Braund, Mr. Owen Harris</td>\n",
       "      <td>male</td>\n",
       "      <td>22.0</td>\n",
       "      <td>1</td>\n",
       "      <td>0</td>\n",
       "      <td>A/5 21171</td>\n",
       "      <td>7.2500</td>\n",
       "      <td>NaN</td>\n",
       "      <td>S</td>\n",
       "    </tr>\n",
       "    <tr>\n",
       "      <th>1</th>\n",
       "      <td>2</td>\n",
       "      <td>1</td>\n",
       "      <td>1</td>\n",
       "      <td>Cumings, Mrs. John Bradley (Florence Briggs Th...</td>\n",
       "      <td>female</td>\n",
       "      <td>38.0</td>\n",
       "      <td>1</td>\n",
       "      <td>0</td>\n",
       "      <td>PC 17599</td>\n",
       "      <td>71.2833</td>\n",
       "      <td>C85</td>\n",
       "      <td>C</td>\n",
       "    </tr>\n",
       "    <tr>\n",
       "      <th>2</th>\n",
       "      <td>3</td>\n",
       "      <td>1</td>\n",
       "      <td>3</td>\n",
       "      <td>Heikkinen, Miss. Laina</td>\n",
       "      <td>female</td>\n",
       "      <td>26.0</td>\n",
       "      <td>0</td>\n",
       "      <td>0</td>\n",
       "      <td>STON/O2. 3101282</td>\n",
       "      <td>7.9250</td>\n",
       "      <td>NaN</td>\n",
       "      <td>S</td>\n",
       "    </tr>\n",
       "    <tr>\n",
       "      <th>3</th>\n",
       "      <td>4</td>\n",
       "      <td>1</td>\n",
       "      <td>1</td>\n",
       "      <td>Futrelle, Mrs. Jacques Heath (Lily May Peel)</td>\n",
       "      <td>female</td>\n",
       "      <td>35.0</td>\n",
       "      <td>1</td>\n",
       "      <td>0</td>\n",
       "      <td>113803</td>\n",
       "      <td>53.1000</td>\n",
       "      <td>C123</td>\n",
       "      <td>S</td>\n",
       "    </tr>\n",
       "    <tr>\n",
       "      <th>4</th>\n",
       "      <td>5</td>\n",
       "      <td>0</td>\n",
       "      <td>3</td>\n",
       "      <td>Allen, Mr. William Henry</td>\n",
       "      <td>male</td>\n",
       "      <td>35.0</td>\n",
       "      <td>0</td>\n",
       "      <td>0</td>\n",
       "      <td>373450</td>\n",
       "      <td>8.0500</td>\n",
       "      <td>NaN</td>\n",
       "      <td>S</td>\n",
       "    </tr>\n",
       "    <tr>\n",
       "      <th>...</th>\n",
       "      <td>...</td>\n",
       "      <td>...</td>\n",
       "      <td>...</td>\n",
       "      <td>...</td>\n",
       "      <td>...</td>\n",
       "      <td>...</td>\n",
       "      <td>...</td>\n",
       "      <td>...</td>\n",
       "      <td>...</td>\n",
       "      <td>...</td>\n",
       "      <td>...</td>\n",
       "      <td>...</td>\n",
       "    </tr>\n",
       "    <tr>\n",
       "      <th>886</th>\n",
       "      <td>887</td>\n",
       "      <td>0</td>\n",
       "      <td>2</td>\n",
       "      <td>Montvila, Rev. Juozas</td>\n",
       "      <td>male</td>\n",
       "      <td>27.0</td>\n",
       "      <td>0</td>\n",
       "      <td>0</td>\n",
       "      <td>211536</td>\n",
       "      <td>13.0000</td>\n",
       "      <td>NaN</td>\n",
       "      <td>S</td>\n",
       "    </tr>\n",
       "    <tr>\n",
       "      <th>887</th>\n",
       "      <td>888</td>\n",
       "      <td>1</td>\n",
       "      <td>1</td>\n",
       "      <td>Graham, Miss. Margaret Edith</td>\n",
       "      <td>female</td>\n",
       "      <td>19.0</td>\n",
       "      <td>0</td>\n",
       "      <td>0</td>\n",
       "      <td>112053</td>\n",
       "      <td>30.0000</td>\n",
       "      <td>B42</td>\n",
       "      <td>S</td>\n",
       "    </tr>\n",
       "    <tr>\n",
       "      <th>888</th>\n",
       "      <td>889</td>\n",
       "      <td>0</td>\n",
       "      <td>3</td>\n",
       "      <td>Johnston, Miss. Catherine Helen \"Carrie\"</td>\n",
       "      <td>female</td>\n",
       "      <td>NaN</td>\n",
       "      <td>1</td>\n",
       "      <td>2</td>\n",
       "      <td>W./C. 6607</td>\n",
       "      <td>23.4500</td>\n",
       "      <td>NaN</td>\n",
       "      <td>S</td>\n",
       "    </tr>\n",
       "    <tr>\n",
       "      <th>889</th>\n",
       "      <td>890</td>\n",
       "      <td>1</td>\n",
       "      <td>1</td>\n",
       "      <td>Behr, Mr. Karl Howell</td>\n",
       "      <td>male</td>\n",
       "      <td>26.0</td>\n",
       "      <td>0</td>\n",
       "      <td>0</td>\n",
       "      <td>111369</td>\n",
       "      <td>30.0000</td>\n",
       "      <td>C148</td>\n",
       "      <td>C</td>\n",
       "    </tr>\n",
       "    <tr>\n",
       "      <th>890</th>\n",
       "      <td>891</td>\n",
       "      <td>0</td>\n",
       "      <td>3</td>\n",
       "      <td>Dooley, Mr. Patrick</td>\n",
       "      <td>male</td>\n",
       "      <td>32.0</td>\n",
       "      <td>0</td>\n",
       "      <td>0</td>\n",
       "      <td>370376</td>\n",
       "      <td>7.7500</td>\n",
       "      <td>NaN</td>\n",
       "      <td>Q</td>\n",
       "    </tr>\n",
       "  </tbody>\n",
       "</table>\n",
       "<p>891 rows × 12 columns</p>\n",
       "</div>"
      ],
      "text/plain": [
       "     PassengerId  Survived  Pclass  \\\n",
       "0              1         0       3   \n",
       "1              2         1       1   \n",
       "2              3         1       3   \n",
       "3              4         1       1   \n",
       "4              5         0       3   \n",
       "..           ...       ...     ...   \n",
       "886          887         0       2   \n",
       "887          888         1       1   \n",
       "888          889         0       3   \n",
       "889          890         1       1   \n",
       "890          891         0       3   \n",
       "\n",
       "                                                  Name     Sex   Age  SibSp  \\\n",
       "0                              Braund, Mr. Owen Harris    male  22.0      1   \n",
       "1    Cumings, Mrs. John Bradley (Florence Briggs Th...  female  38.0      1   \n",
       "2                               Heikkinen, Miss. Laina  female  26.0      0   \n",
       "3         Futrelle, Mrs. Jacques Heath (Lily May Peel)  female  35.0      1   \n",
       "4                             Allen, Mr. William Henry    male  35.0      0   \n",
       "..                                                 ...     ...   ...    ...   \n",
       "886                              Montvila, Rev. Juozas    male  27.0      0   \n",
       "887                       Graham, Miss. Margaret Edith  female  19.0      0   \n",
       "888           Johnston, Miss. Catherine Helen \"Carrie\"  female   NaN      1   \n",
       "889                              Behr, Mr. Karl Howell    male  26.0      0   \n",
       "890                                Dooley, Mr. Patrick    male  32.0      0   \n",
       "\n",
       "     Parch            Ticket     Fare Cabin Embarked  \n",
       "0        0         A/5 21171   7.2500   NaN        S  \n",
       "1        0          PC 17599  71.2833   C85        C  \n",
       "2        0  STON/O2. 3101282   7.9250   NaN        S  \n",
       "3        0            113803  53.1000  C123        S  \n",
       "4        0            373450   8.0500   NaN        S  \n",
       "..     ...               ...      ...   ...      ...  \n",
       "886      0            211536  13.0000   NaN        S  \n",
       "887      0            112053  30.0000   B42        S  \n",
       "888      2        W./C. 6607  23.4500   NaN        S  \n",
       "889      0            111369  30.0000  C148        C  \n",
       "890      0            370376   7.7500   NaN        Q  \n",
       "\n",
       "[891 rows x 12 columns]"
      ]
     },
     "execution_count": 4,
     "metadata": {},
     "output_type": "execute_result"
    }
   ],
   "source": [
    "train_data\n"
   ]
  },
  {
   "cell_type": "code",
   "execution_count": 5,
   "id": "ce4522c1",
   "metadata": {
    "execution": {
     "iopub.execute_input": "2023-04-04T19:59:34.380258Z",
     "iopub.status.busy": "2023-04-04T19:59:34.379508Z",
     "iopub.status.idle": "2023-04-04T19:59:34.418139Z",
     "shell.execute_reply": "2023-04-04T19:59:34.416893Z"
    },
    "papermill": {
     "duration": 0.050849,
     "end_time": "2023-04-04T19:59:34.420770",
     "exception": false,
     "start_time": "2023-04-04T19:59:34.369921",
     "status": "completed"
    },
    "tags": []
   },
   "outputs": [
    {
     "data": {
      "text/html": [
       "<div>\n",
       "<style scoped>\n",
       "    .dataframe tbody tr th:only-of-type {\n",
       "        vertical-align: middle;\n",
       "    }\n",
       "\n",
       "    .dataframe tbody tr th {\n",
       "        vertical-align: top;\n",
       "    }\n",
       "\n",
       "    .dataframe thead th {\n",
       "        text-align: right;\n",
       "    }\n",
       "</style>\n",
       "<table border=\"1\" class=\"dataframe\">\n",
       "  <thead>\n",
       "    <tr style=\"text-align: right;\">\n",
       "      <th></th>\n",
       "      <th>PassengerId</th>\n",
       "      <th>Survived</th>\n",
       "      <th>Pclass</th>\n",
       "      <th>Age</th>\n",
       "      <th>SibSp</th>\n",
       "      <th>Parch</th>\n",
       "      <th>Fare</th>\n",
       "    </tr>\n",
       "  </thead>\n",
       "  <tbody>\n",
       "    <tr>\n",
       "      <th>count</th>\n",
       "      <td>891.000000</td>\n",
       "      <td>891.000000</td>\n",
       "      <td>891.000000</td>\n",
       "      <td>714.000000</td>\n",
       "      <td>891.000000</td>\n",
       "      <td>891.000000</td>\n",
       "      <td>891.000000</td>\n",
       "    </tr>\n",
       "    <tr>\n",
       "      <th>mean</th>\n",
       "      <td>446.000000</td>\n",
       "      <td>0.383838</td>\n",
       "      <td>2.308642</td>\n",
       "      <td>29.699118</td>\n",
       "      <td>0.523008</td>\n",
       "      <td>0.381594</td>\n",
       "      <td>32.204208</td>\n",
       "    </tr>\n",
       "    <tr>\n",
       "      <th>std</th>\n",
       "      <td>257.353842</td>\n",
       "      <td>0.486592</td>\n",
       "      <td>0.836071</td>\n",
       "      <td>14.526497</td>\n",
       "      <td>1.102743</td>\n",
       "      <td>0.806057</td>\n",
       "      <td>49.693429</td>\n",
       "    </tr>\n",
       "    <tr>\n",
       "      <th>min</th>\n",
       "      <td>1.000000</td>\n",
       "      <td>0.000000</td>\n",
       "      <td>1.000000</td>\n",
       "      <td>0.420000</td>\n",
       "      <td>0.000000</td>\n",
       "      <td>0.000000</td>\n",
       "      <td>0.000000</td>\n",
       "    </tr>\n",
       "    <tr>\n",
       "      <th>25%</th>\n",
       "      <td>223.500000</td>\n",
       "      <td>0.000000</td>\n",
       "      <td>2.000000</td>\n",
       "      <td>20.125000</td>\n",
       "      <td>0.000000</td>\n",
       "      <td>0.000000</td>\n",
       "      <td>7.910400</td>\n",
       "    </tr>\n",
       "    <tr>\n",
       "      <th>50%</th>\n",
       "      <td>446.000000</td>\n",
       "      <td>0.000000</td>\n",
       "      <td>3.000000</td>\n",
       "      <td>28.000000</td>\n",
       "      <td>0.000000</td>\n",
       "      <td>0.000000</td>\n",
       "      <td>14.454200</td>\n",
       "    </tr>\n",
       "    <tr>\n",
       "      <th>75%</th>\n",
       "      <td>668.500000</td>\n",
       "      <td>1.000000</td>\n",
       "      <td>3.000000</td>\n",
       "      <td>38.000000</td>\n",
       "      <td>1.000000</td>\n",
       "      <td>0.000000</td>\n",
       "      <td>31.000000</td>\n",
       "    </tr>\n",
       "    <tr>\n",
       "      <th>max</th>\n",
       "      <td>891.000000</td>\n",
       "      <td>1.000000</td>\n",
       "      <td>3.000000</td>\n",
       "      <td>80.000000</td>\n",
       "      <td>8.000000</td>\n",
       "      <td>6.000000</td>\n",
       "      <td>512.329200</td>\n",
       "    </tr>\n",
       "  </tbody>\n",
       "</table>\n",
       "</div>"
      ],
      "text/plain": [
       "       PassengerId    Survived      Pclass         Age       SibSp  \\\n",
       "count   891.000000  891.000000  891.000000  714.000000  891.000000   \n",
       "mean    446.000000    0.383838    2.308642   29.699118    0.523008   \n",
       "std     257.353842    0.486592    0.836071   14.526497    1.102743   \n",
       "min       1.000000    0.000000    1.000000    0.420000    0.000000   \n",
       "25%     223.500000    0.000000    2.000000   20.125000    0.000000   \n",
       "50%     446.000000    0.000000    3.000000   28.000000    0.000000   \n",
       "75%     668.500000    1.000000    3.000000   38.000000    1.000000   \n",
       "max     891.000000    1.000000    3.000000   80.000000    8.000000   \n",
       "\n",
       "            Parch        Fare  \n",
       "count  891.000000  891.000000  \n",
       "mean     0.381594   32.204208  \n",
       "std      0.806057   49.693429  \n",
       "min      0.000000    0.000000  \n",
       "25%      0.000000    7.910400  \n",
       "50%      0.000000   14.454200  \n",
       "75%      0.000000   31.000000  \n",
       "max      6.000000  512.329200  "
      ]
     },
     "execution_count": 5,
     "metadata": {},
     "output_type": "execute_result"
    }
   ],
   "source": [
    "train_data.describe()"
   ]
  },
  {
   "cell_type": "code",
   "execution_count": 6,
   "id": "5b5144a1",
   "metadata": {
    "execution": {
     "iopub.execute_input": "2023-04-04T19:59:34.439919Z",
     "iopub.status.busy": "2023-04-04T19:59:34.439493Z",
     "iopub.status.idle": "2023-04-04T19:59:34.460694Z",
     "shell.execute_reply": "2023-04-04T19:59:34.459530Z"
    },
    "papermill": {
     "duration": 0.033727,
     "end_time": "2023-04-04T19:59:34.463043",
     "exception": false,
     "start_time": "2023-04-04T19:59:34.429316",
     "status": "completed"
    },
    "tags": []
   },
   "outputs": [
    {
     "name": "stdout",
     "output_type": "stream",
     "text": [
      "<class 'pandas.core.frame.DataFrame'>\n",
      "RangeIndex: 891 entries, 0 to 890\n",
      "Data columns (total 12 columns):\n",
      " #   Column       Non-Null Count  Dtype  \n",
      "---  ------       --------------  -----  \n",
      " 0   PassengerId  891 non-null    int64  \n",
      " 1   Survived     891 non-null    int64  \n",
      " 2   Pclass       891 non-null    int64  \n",
      " 3   Name         891 non-null    object \n",
      " 4   Sex          891 non-null    object \n",
      " 5   Age          714 non-null    float64\n",
      " 6   SibSp        891 non-null    int64  \n",
      " 7   Parch        891 non-null    int64  \n",
      " 8   Ticket       891 non-null    object \n",
      " 9   Fare         891 non-null    float64\n",
      " 10  Cabin        204 non-null    object \n",
      " 11  Embarked     889 non-null    object \n",
      "dtypes: float64(2), int64(5), object(5)\n",
      "memory usage: 83.7+ KB\n"
     ]
    },
    {
     "data": {
      "text/plain": [
       "PassengerId      0\n",
       "Survived         0\n",
       "Pclass           0\n",
       "Name             0\n",
       "Sex              0\n",
       "Age            177\n",
       "SibSp            0\n",
       "Parch            0\n",
       "Ticket           0\n",
       "Fare             0\n",
       "Cabin          687\n",
       "Embarked         2\n",
       "dtype: int64"
      ]
     },
     "execution_count": 6,
     "metadata": {},
     "output_type": "execute_result"
    }
   ],
   "source": [
    "train_data.info()\n",
    "train_data.isnull().sum()"
   ]
  },
  {
   "cell_type": "code",
   "execution_count": 7,
   "id": "18a8769d",
   "metadata": {
    "execution": {
     "iopub.execute_input": "2023-04-04T19:59:34.482303Z",
     "iopub.status.busy": "2023-04-04T19:59:34.481164Z",
     "iopub.status.idle": "2023-04-04T19:59:34.487183Z",
     "shell.execute_reply": "2023-04-04T19:59:34.485787Z"
    },
    "papermill": {
     "duration": 0.018318,
     "end_time": "2023-04-04T19:59:34.489697",
     "exception": false,
     "start_time": "2023-04-04T19:59:34.471379",
     "status": "completed"
    },
    "tags": []
   },
   "outputs": [],
   "source": [
    "from sklearn.impute import SimpleImputer"
   ]
  },
  {
   "cell_type": "code",
   "execution_count": 8,
   "id": "a83139f4",
   "metadata": {
    "execution": {
     "iopub.execute_input": "2023-04-04T19:59:34.510137Z",
     "iopub.status.busy": "2023-04-04T19:59:34.509174Z",
     "iopub.status.idle": "2023-04-04T19:59:34.515116Z",
     "shell.execute_reply": "2023-04-04T19:59:34.513622Z"
    },
    "papermill": {
     "duration": 0.01803,
     "end_time": "2023-04-04T19:59:34.517637",
     "exception": false,
     "start_time": "2023-04-04T19:59:34.499607",
     "status": "completed"
    },
    "tags": []
   },
   "outputs": [],
   "source": [
    "imp = SimpleImputer(strategy = 'mean')"
   ]
  },
  {
   "cell_type": "code",
   "execution_count": 9,
   "id": "82c41f5f",
   "metadata": {
    "execution": {
     "iopub.execute_input": "2023-04-04T19:59:34.536131Z",
     "iopub.status.busy": "2023-04-04T19:59:34.535710Z",
     "iopub.status.idle": "2023-04-04T19:59:34.547162Z",
     "shell.execute_reply": "2023-04-04T19:59:34.546030Z"
    },
    "papermill": {
     "duration": 0.023478,
     "end_time": "2023-04-04T19:59:34.549555",
     "exception": false,
     "start_time": "2023-04-04T19:59:34.526077",
     "status": "completed"
    },
    "tags": []
   },
   "outputs": [
    {
     "data": {
      "text/plain": [
       "Survived       1.000000\n",
       "Fare           0.257307\n",
       "Parch          0.081629\n",
       "PassengerId   -0.005007\n",
       "SibSp         -0.035322\n",
       "Age           -0.077221\n",
       "Pclass        -0.338481\n",
       "Name: Survived, dtype: float64"
      ]
     },
     "execution_count": 9,
     "metadata": {},
     "output_type": "execute_result"
    }
   ],
   "source": [
    "train_data.corr()['Survived'].sort_values(ascending = False)"
   ]
  },
  {
   "cell_type": "code",
   "execution_count": 10,
   "id": "25a64195",
   "metadata": {
    "execution": {
     "iopub.execute_input": "2023-04-04T19:59:34.568273Z",
     "iopub.status.busy": "2023-04-04T19:59:34.567904Z",
     "iopub.status.idle": "2023-04-04T19:59:35.921476Z",
     "shell.execute_reply": "2023-04-04T19:59:35.920542Z"
    },
    "papermill": {
     "duration": 1.36603,
     "end_time": "2023-04-04T19:59:35.923979",
     "exception": false,
     "start_time": "2023-04-04T19:59:34.557949",
     "status": "completed"
    },
    "tags": []
   },
   "outputs": [
    {
     "data": {
      "text/plain": [
       "array([[<AxesSubplot:title={'center':'PassengerId'}>,\n",
       "        <AxesSubplot:title={'center':'Survived'}>,\n",
       "        <AxesSubplot:title={'center':'Pclass'}>],\n",
       "       [<AxesSubplot:title={'center':'Age'}>,\n",
       "        <AxesSubplot:title={'center':'SibSp'}>,\n",
       "        <AxesSubplot:title={'center':'Parch'}>],\n",
       "       [<AxesSubplot:title={'center':'Fare'}>, <AxesSubplot:>,\n",
       "        <AxesSubplot:>]], dtype=object)"
      ]
     },
     "execution_count": 10,
     "metadata": {},
     "output_type": "execute_result"
    },
    {
     "data": {
      "image/png": "iVBORw0KGgoAAAANSUhEUgAAA9oAAAKoCAYAAACIioc5AAAAOXRFWHRTb2Z0d2FyZQBNYXRwbG90bGliIHZlcnNpb24zLjUuMywgaHR0cHM6Ly9tYXRwbG90bGliLm9yZy/NK7nSAAAACXBIWXMAAA9hAAAPYQGoP6dpAACnKklEQVR4nOzdfVxUZf4//tcIw3AjoKDOQKJii5qiRWAkWugK+DHRzIpKSzN3lz7eJKGrqZWDGSibSnnXx5bAzYi2TTYrbxgrMZdMxCxvWq1vaN4wsRoKCg4jXL8//HG2kbsZPMzt6/l4zKPmOtec836fIxfz5pxzHYUQQoCIiIiIiIiIZNHJ1gEQERERERERORMW2kREREREREQyYqFNREREREREJCMW2kREREREREQyYqFNREREREREJCMW2kREREREREQyYqFNREREREREJCMW2kREREREREQyYqFNREREREREJCMW2i4sNzcXCoVCerm7u6Nnz56YPn06zp07Z+vwHFKfPn2QmJjYZr9Tp05BoVAgNze344MiIrvx9ddf46GHHkKvXr2gUqmgVqsxbNgwzJs3zybxaLVaKBQKm2x75MiRGDlypE22TUTOS67vt/yuRrfK3dYBkO3l5ORgwIABqK2txd69e5GRkYGioiIcOXIEPj4+tg6PiMgpfPrpp5gwYQJGjhyJzMxMBAUFoby8HAcPHkR+fj5WrVpl9Zj+8Ic/4H/+53+svl0ioo7G77dkayy0CeHh4YiKigIAjBo1CvX19XjllVfwz3/+E1OmTLFxdI6htrYWXl5etg6DiOxYZmYmQkNDsWvXLri7//fX7+OPP47MzExZtlFbWwtPT0+zz1L37NkTPXv2lGXbRET2hN9vydZ46Tg1ce+99wIATp8+jbS0NERHRyMgIAB+fn64++67kZ2dDSGEyWc+//xzjBw5EoGBgfDy8kKvXr3w8MMPo6amRuqzceNG3HnnnejcuTN8fX0xYMAALF682GQ9er0eycnJ6NmzJzw8PBAaGoq0tDRcv35d6tN4Kc9rr72G1atXIzQ0FJ07d8awYcOwf//+Jvm89dZb6NevH1QqFQYOHIi8vDw8/fTT6NOnj0m/uro6LF++HAMGDIBKpUL37t0xffp0/Oc//zHp13h5+NatWxEREQFPT0+kpaW1uD/Pnz+PpKQk+Pr6wt/fH4899hj0en3rB4GInM7FixfRrVs3kyK7UadO//11rFAooNVqm/Tp06cPnn76ael94+WRhYWFeOaZZ9C9e3d4e3vj/fffh0KhwGeffdZkHRs3boRCocB3330HoOml4xMnTkTv3r3R0NDQ5LPR0dG4++67pfdCCGzYsAF33XUXvLy80LVrVzzyyCP46aefTD4nhEBmZiZ69+4NT09P3H333dixY0fLO4qIqAP89vstAJw7dw5/+tOfEBISAg8PDwQHB+ORRx7BL7/80uI6fvzxR0yfPh1hYWHw9vbGbbfdhvHjx+PIkSMm/RoaGrB8+XL0798fXl5e6NKlC4YMGYLXX39d6vOf//xH2n7j987hw4dj9+7dHZA92QLPaFMTP/74IwCge/fuKC4uRnJyMnr16gUA2L9/P+bMmYNz587h5ZdfBnCj8B03bhzuu+8+vP322+jSpQvOnTuHnTt3oq6uDt7e3sjPz8fMmTMxZ84cvPbaa+jUqRN+/PFHHD9+XNquXq/HPffcg06dOuHll1/G7bffjq+++grLly/HqVOnkJOTYxLn+vXrMWDAAGRlZQEAXnrpJTzwwAMoKyuDv78/AGDTpk1ITk7Gww8/jDVr1uDy5ctIS0uDwWAwWVdDQwMefPBBfPnll1iwYAFiYmJw+vRpLF26FCNHjsTBgwdNzlgfOnQI33//PV588UWEhoa2eAlSbW0t4uLicP78eWRkZKBfv3749NNP8dhjj93CESIiRzRs2DD89a9/xXPPPYcpU6bg7rvvhlKpvOX1PvPMMxg3bhzeeecdXL16FYmJiejRowdycnIwevRok765ubm4++67MWTIkBbX9eCDD+Lzzz9HXFyc1P7vf/8bBw4cwBtvvCG1JScnIzc3F8899xxWrlyJX3/9FcuWLUNMTAy+/fZbqNVqAEBaWhrS0tIwY8YMPPLIIzhz5gz++Mc/or6+Hv3797/l/ImIzPHb77fnzp3D0KFDYTQasXjxYgwZMgQXL17Erl27UFlZKY1fNzt//jwCAwOxYsUKdO/eHb/++is2b96M6OhofPPNN9KYlpmZCa1WixdffBH3338/jEYj/v3vf+PSpUvSup566ikcOnQIr776Kvr164dLly7h0KFDuHjxYofvC7ISQS4rJydHABD79+8XRqNRVFdXi08++UR0795d+Pr6Cr1eb9K/vr5eGI1GsWzZMhEYGCgaGhqEEEL84x//EADE4cOHW9zW7NmzRZcuXVqNJzk5WXTu3FmcPn3apP21114TAMSxY8eEEEKUlZUJAGLw4MHi+vXrUr8DBw4IAOK9996T4tVoNCI6OtpkfadPnxZKpVL07t1banvvvfcEAPHhhx+a9C0pKREAxIYNG6S23r17Czc3N3HixIkmOfTu3VuMGzdOer9x40YBQHz00Ucm/f74xz8KACInJ6fVfUJEzuPChQtixIgRAoAAIJRKpYiJiREZGRmiurpa6gdALF26tMnne/fuLaZNmya9bxzDp06d2qRvamqq8PLyEpcuXZLajh8/LgCItWvXSm1Lly4Vv/0qYDQahVqtFpMnTzZZ34IFC4SHh4e4cOGCEEKIr776SgAQq1atMul35swZ4eXlJRYsWCCEEKKyslJ4enqKhx56yKTfv/71LwFAxMbGtrC3iIjax5zvt88884xQKpXi+PHjLa6n8ftma9/Vrl+/Lurq6kRYWJh4/vnnpfbExERx1113tRpn586dRUpKisX5kePgpeOEe++9F0qlEr6+vkhMTIRGo8GOHTugVqulsxr+/v5wc3ODUqnEyy+/jIsXL6KiogIAcNddd8HDwwN/+tOfsHnz5iaXDQLAPffcg0uXLuGJJ57ARx99hAsXLjTp88knn2DUqFEIDg7G9evXpdfYsWMBAEVFRSb9x40bBzc3N+l94xmaxkuCTpw4Ab1ej6SkJJPP9erVC8OHD2+y7S5dumD8+PEm277rrrug0WiwZ88ek/5DhgxBv3792ty3X3zxBXx9fTFhwgST9smTJ7f5WSJyLoGBgfjyyy9RUlKCFStW4MEHH8TJkyexaNEiDB48uNlx0RwPP/xwk7ZnnnkGtbW1eP/996W2nJwcqFSqVscfd3d3PPnkk9i6dSsuX74MAKivr8c777yDBx98EIGBgQBujJkKhQJPPvmkyZip0Whw5513SmPmV199hWvXrjW5HzImJga9e/duV75EROZo7fvtjh07MGrUKNxxxx0WrfP69etIT0/HwIED4eHhAXd3d3h4eOCHH37A999/L/W755578O2332LmzJnYtWsXqqqqmqzrnnvuQW5uLpYvX479+/fDaDTecs5kX1hoE/72t7+hpKQE33zzDc6fP4/vvvsOw4cPx4EDB5CQkADgxn3O//rXv1BSUoIlS5YAuHFZNADcfvvt2L17N3r06IFZs2bh9ttvx+23325yH8pTTz2Ft99+G6dPn8bDDz+MHj16IDo6GjqdTurzyy+/4OOPP4ZSqTR5DRo0CACafAlt/MLXSKVSmcTVeOlNc5f/3Nz2yy+/4NKlS/Dw8Giyfb1e32TbQUFB5uxaXLx4sdntazQasz5PRM4nKioKCxcuxAcffIDz58/j+eefx6lTp9o9IVpz49GgQYMwdOhQ6Zab+vp6bNmyBQ8++CACAgJaXd8zzzyDa9euIT8/HwCwa9culJeXY/r06VKfX375BUIIqNXqJmPm/v37pTGzcRxubszjOEhEHaml77fAjfuj2zMRZGpqKl566SVMnDgRH3/8Mb7++muUlJTgzjvvlL5/AsCiRYvw2muvYf/+/Rg7diwCAwMxevRoHDx4UOrz/vvvY9q0afjrX/+KYcOGISAgAFOnTuU8Pk6E92gT7rjjDmlWxt/Kz8+HUqnEJ598Ak9PT6n9n//8Z5O+9913H+677z7U19fj4MGDWLt2LVJSUqBWq/H4448DAKZPn47p06fj6tWr2Lt3L5YuXYrExEScPHkSvXv3Rrdu3TBkyBC8+uqrzcYZHBxsUV6NhXhzk1rcPIh169YNgYGB2LlzZ7Pr8vX1NXlv7oy+gYGBOHDgQJvbJyLXpFQqsXTpUqxZswZHjx4FcOOPhjfPIwGgxfv2WhqPpk+fjpkzZ+L777/HTz/91KRYbsnAgQNxzz33ICcnB8nJycjJyUFwcLD0h1fgxpipUCjw5ZdfSn/k/K3GtsZxuLkxT6/XN5mUkohILi19vwVu3Kd99uxZi9e5ZcsWTJ06Fenp6SbtFy5cQJcuXaT37u7uSE1NRWpqKi5duoTdu3dj8eLFGDNmDM6cOQNvb29069YNWVlZyMrKws8//4xt27bhhRdeQEVFRYvfR8mx8Iw2tUihUMDd3d3k8uza2lq88847LX7Gzc0N0dHRWL9+PYAbk4bdzMfHB2PHjsWSJUtQV1eHY8eOAQASExNx9OhR3H777YiKimrysrTQ7t+/PzQaDf7+97+btP/8888oLi42aUtMTMTFixdRX1/f7LbbO2HPqFGjUF1djW3btpm05+XltWt9ROS4ysvLm21vvNywcYzr06ePNCt4o88//xxXrlyxaHtPPPEEPD09kZubi9zcXNx2220mxXJrpk+fjq+//hr79u3Dxx9/jGnTppn8LkhMTIQQAufOnWt2zBw8eDCAG5duenp64t133zVZf3FxsXSbDxGRtY0dOxZffPEFTpw4YdHnFApFkz8ufvrppzh37lyLn+nSpQseeeQRzJo1C7/++itOnTrVpE+vXr0we/ZsxMfHN/vdmRwTz2hTi8aNG4fVq1dj8uTJ+NOf/oSLFy/itddeazLAvPnmm/j8888xbtw49OrVC9euXcPbb78NANKstX/84x/h5eWF4cOHIygoCHq9HhkZGfD398fQoUMBAMuWLYNOp0NMTAyee+459O/fH9euXcOpU6ewfft2vPnmmxZd5tOpUyekpaUhOTkZjzzyCJ555hlcunQJaWlpCAoKMnmczuOPP453330XDzzwAObOnYt77rkHSqUSZ8+exRdffIEHH3wQDz30kMX7cOrUqVizZg2mTp2KV199FWFhYdi+fTt27dpl8bqIyLGNGTMGPXv2xPjx4zFgwAA0NDTg8OHDWLVqFTp37oy5c+cCuHGrzUsvvYSXX34ZsbGxOH78ONatWyc9TcFcXbp0wUMPPYTc3FxcunQJ8+fPNxn3WvPEE08gNTUVTzzxBAwGg8ljxQBg+PDh+NOf/oTp06fj4MGDuP/+++Hj44Py8nLs27cPgwcPxv/+7/+ia9eumD9/PpYvX44//OEPePTRR3HmzBlotVpeOk5ENrNs2TLs2LED999/PxYvXozBgwfj0qVL2LlzJ1JTUzFgwIBmP5eYmIjc3FwMGDAAQ4YMQWlpKf7yl780+X46fvx46Tne3bt3x+nTp5GVlYXevXsjLCwMly9fxqhRozB58mQMGDAAvr6+KCkpwc6dOzFp0iRr7AKyBlvPxka20zgrY0lJSYt93n77bdG/f3+hUqlE3759RUZGhsjOzhYARFlZmRDixuyzDz30kOjdu7dQqVQiMDBQxMbGim3btknr2bx5sxg1apRQq9XCw8NDBAcHi6SkJPHdd9+ZbO8///mPeO6550RoaKhQKpUiICBAREZGiiVLlogrV64IIf47C+Rf/vKXJvGimdl6N23aJH73u98JDw8P0a9fP/H222+LBx98UERERJj0MxqN4rXXXhN33nmn8PT0FJ07dxYDBgwQycnJ4ocffpD63Tyz+G81t+zs2bPi4YcfFp07dxa+vr7i4YcfFsXFxZx1nMjFvP/++2Ly5MkiLCxMdO7cWSiVStGrVy/x1FNPmcx8azAYxIIFC0RISIjw8vISsbGx4vDhwy3OOt7aGF5YWCjNcn7y5Mkmy2+edfy3Jk+eLACI4cOHt7j+t99+W0RHRwsfHx/h5eUlbr/9djF16lRx8OBBqU9DQ4PIyMgQISEhwsPDQwwZMkR8/PHHIjY2lrOOE5HszBkbhbjxlIRnnnlGaDQaoVQqpe+mv/zyixCi+VnHKysrxYwZM0SPHj2Et7e3GDFihPjyyy+bjGerVq0SMTExolu3bsLDw0P06tVLzJgxQ5w6dUoIIcS1a9fEs88+K4YMGSL8/PyEl5eX6N+/v1i6dKm4evWq7PuEbEMhhBC2KfGJbOPSpUvo168fJk6ciE2bNtk6HCIiIiIicjK8dJycml6vx6uvvopRo0YhMDAQp0+fxpo1a1BdXS1dpklERERERCQnFtrk1FQqFU6dOoWZM2fi119/hbe3N+699168+eab0mPDiIiIiIiI5MRLx4mIiIiIiIhkxMd7EREREREREcmIhTYRERERERGRjFhoExEREREREcnIISdDa2howPnz5+Hr6wuFQmHrcIjIRoQQqK6uRnBwMDp14t8NzcHxk4gAjp/twfGTiCwZOx2y0D5//jxCQkJsHQYR2YkzZ86gZ8+etg7DIXD8JKLf4vhpPo6fRNTInLHTIQttX19fADcS9PPza7O/0WhEYWEhEhISoFQqOzo8q3C2nJwtH4A5WUNVVRVCQkKkMYHa5krjJ2O3DcZuG5bG7kjjp1arRVpamkmbWq2GXq8HcOMMU1paGjZt2oTKykpER0dj/fr1Jo/xNBgMmD9/Pt577z3U1tZi9OjR2LBhg0V/ZHCl8dMSrpInwFydlSW5WjJ2OmSh3Xi5jp+fn9kDnbe3N/z8/JzmH4qz5eRs+QDMyZp4CZ/5XGn8ZOy2wdhto72xO8r4OWjQIOzevVt67+bmJv1/ZmYmVq9ejdzcXPTr1w/Lly9HfHw8Tpw4IX0ZTklJwccff4z8/HwEBgZi3rx5SExMRGlpqcm6WuNK46clXCVPgLk6q/bkas7Y6ZCFNhERERG5Dnd3d2g0mibtQghkZWVhyZIlmDRpEgBg8+bNUKvVyMvLQ3JyMi5fvozs7Gy88847iIuLAwBs2bIFISEh2L17N8aMGWPVXIjINcheaG/cuBEbN27EqVOnANz4C+TLL7+MsWPHAjDv8h4iIiIiokY//PADgoODoVKpEB0djfT0dPTt2xdlZWXQ6/VISEiQ+qpUKsTGxqK4uBjJyckoLS2F0Wg06RMcHIzw8HAUFxe3WGgbDAYYDAbpfVVVFYAbZ7+MRmObMTf2MaevI3OVPAHm6qwsydWS/SF7od2zZ0+sWLECv/vd7wDc+Kvigw8+iG+++QaDBg0y6/IeIiIiIiIAiI6Oxt/+9jf069cPv/zyC5YvX46YmBgcO3ZMuk9brVabfEatVuP06dMAAL1eDw8PD3Tt2rVJn8bPNycjI6PJveEAUFhYCG9vb7Pj1+l0Zvd1ZK6SJ8BcnZU5udbU1Ji9PtkL7fHjx5u8f/XVV7Fx40bs378fAwcObPPyHiIiIiKiRo1XRQLA4MGDMWzYMNx+++3YvHkz7r33XgBN75cUQrR5D2VbfRYtWoTU1FTpfeMkSAkJCWbfo63T6RAfH+/U97i6Sp4Ac3VWluTaeGWLOTr0Hu36+np88MEHuHr1KoYNG2bW5T3N4aU7TTlbTs6WD8CcrMFe4iAiIuvx8fHB4MGD8cMPP2DixIkAbpy1DgoKkvpUVFRIZ7k1Gg3q6upQWVlpcla7oqICMTExLW5HpVJBpVI1aVcqlRYVHpb2d1SukifAXJ2VOblasi86pNA+cuQIhg0bhmvXrqFz584oKCjAwIEDUVxcDKD1y3uaw0t3WuZsOTlbPgBz6kiWXL5DtyZcuwuG+ubP/JxaMc7K0RCRKzMYDPj+++9x3333ITQ0FBqNBjqdDhEREQCAuro6FBUVYeXKlQCAyMhIKJVK6HQ6JCUlAQDKy8tx9OhRZGZm2iwPIrKePi982uIylZtA5j3yb7NDCu3+/fvj8OHDuHTpEj788ENMmzYNRUVF0nJLL++R69Kdlw52gqGhfY+xOKptfUbKcO2udq23vetWdRJ4JarBrJzsLfbmtJSPI8Tekm+W/L7Fy1Budd0dHXtL65fjZ6m9226OJZfvEBGRY5o/fz7Gjx+PXr16oaKiAsuXL0dVVRWmTZsGhUKBlJQUpKenIywsDGFhYUhPT4e3tzcmT54MAPD398eMGTMwb948BAYGIiAgAPPnz8fgwYOlWciJiOTWIYW2h4eHNBlaVFQUSkpK8Prrr2PhwoUAWr+8pzlyXbpjaFC0eEamLW1tp73rvdV1m5OTvcbebP+b8nGk2Ftaf3P/TuVad0s6fP238LN0q9tub18iInJMZ8+exRNPPIELFy6ge/fuuPfee7F//3707t0bALBgwQLU1tZi5syZ0hNtCgsLTSbZXbNmDdzd3ZGUlITa2lqMHj0aubm5Zj9Dm4jIUlZ5jrYQAgaDwazLe4iIiIiIGuXn57e6XKFQQKvVQqvVttjH09MTa9euxdq1a2WOjoioebIX2osXL8bYsWMREhKC6upq5OfnY8+ePdi5c6dZl/cQEREREREROTLZC+1ffvkFTz31FMrLy+Hv748hQ4Zg586diI+PB2De5T1EREREREREjkr2Qjs7O7vV5eZc3mOPWpupzp7X3dHrZ+wtC9fuQuY9rc/W3F622u8dNSsjEREREZEz6WTrAIiIiIiIiIicCQttIiIiIiIiIhmx0CYiIiIiIiKSEQttIiIiIiIiIhmx0CYisgKtVguFQmHy0mg00nIhBLRaLYKDg+Hl5YWRI0fi2LFjJuswGAyYM2cOunXrBh8fH0yYMAFnz561dipERERE1AYW2kREVjJo0CCUl5dLryNHjkjLMjMzsXr1aqxbtw4lJSXQaDSIj49HdXW11CclJQUFBQXIz8/Hvn37cOXKFSQmJqK+vt4W6RARERFRC2R/vBcRETXP3d3d5Cx2IyEEsrKysGTJEkyaNAkAsHnzZqjVauTl5SE5ORmXL19GdnY23nnnHcTFxQEAtmzZgpCQEOzevRtjxoyxai5ERERE1DIW2kREVvLDDz8gODgYKpUK0dHRSE9PR9++fVFWVga9Xo+EhASpr0qlQmxsLIqLi5GcnIzS0lIYjUaTPsHBwQgPD0dxcXGLhbbBYIDBYJDeV1VVAQCMRiOMRmObMTf2UXUSbfaxN41x2Wt8rWHstuFKsTtijkREjoSFNhGRFURHR+Nvf/sb+vXrh19++QXLly9HTEwMjh07Br1eDwBQq9Umn1Gr1Th9+jQAQK/Xw8PDA127dm3Sp/HzzcnIyEBaWlqT9sLCQnh7e5sd/ytRDS0u2759u9nrsQWdTmfrENqNsduGK8ReU1PTwZEQEbk2FtpERFYwduxY6f8HDx6MYcOG4fbbb8fmzZtx7733AgAUCoXJZ4QQTdpu1lafRYsWITU1VXpfVVWFkJAQJCQkwM/Pr824jUYjdDodXjrYCYaG5rdzVGufl603xh4fHw+lUmnrcCzC2G3DlWJvvLqFiIg6BgttIiIb8PHxweDBg/HDDz9g4sSJAG6ctQ4KCpL6VFRUSGe5NRoN6urqUFlZaXJWu6KiAjExMS1uR6VSQaVSNWlXKpUWFRKGBgUM9c0X2vZekFiaqz1h7LbhCrE7an5ERI6Cs44TEdmAwWDA999/j6CgIISGhkKj0Zhc8llXV4eioiKpiI6MjIRSqTTpU15ejqNHj7ZaaBMRERGR9fGMNhGRFcyfPx/jx49Hr169UFFRgeXLl6OqqgrTpk2DQqFASkoK0tPTERYWhrCwMKSnp8Pb2xuTJ08GAPj7+2PGjBmYN28eAgMDERAQgPnz52Pw4MHSLOREREREZB9YaBMRWcHZs2fxxBNP4MKFC+jevTvuvfde7N+/H7179wYALFiwALW1tZg5cyYqKysRHR2NwsJC+Pr6SutYs2YN3N3dkZSUhNraWowePRq5ublwc3OzVVpERERE1AwW2kREVpCfn9/qcoVCAa1WC61W22IfT09PrF27FmvXrpU5OiIiIiKSE+/RJiIiIiIiIpIRC20iIiIiIiIiGbHQJiIiIiIiIpIRC20iIiIiIiIiGbHQJiIiIiKHkJGRIT0SsZEQAlqtFsHBwfDy8sLIkSNx7Ngxk88ZDAbMmTMH3bp1g4+PDyZMmICzZ89aOXoiciUstImIiIjI7pWUlGDTpk0YMmSISXtmZiZWr16NdevWoaSkBBqNBvHx8aiurpb6pKSkoKCgAPn5+di3bx+uXLmCxMRE1NfXWzsNInIRLLSJiIiIyK5duXIFU6ZMwVtvvYWuXbtK7UIIZGVlYcmSJZg0aRLCw8OxefNm1NTUIC8vDwBw+fJlZGdnY9WqVYiLi0NERAS2bNmCI0eOYPfu3bZKiYicHAttIiIiIrJrs2bNwrhx4xAXF2fSXlZWBr1ej4SEBKlNpVIhNjYWxcXFAIDS0lIYjUaTPsHBwQgPD5f6EBHJzd3WARARERERtSQ/Px+HDh1CSUlJk2V6vR4AoFarTdrVajVOnz4t9fHw8DA5E97Yp/HzzTEYDDAYDNL7qqoqAIDRaITRaGwz7sY+5vR1ZK6SJ8BcHZnKTbS8rNONZZb8XJuDhTYRERER2aUzZ85g7ty5KCwshKenZ4v9FAqFyXshRJO2m7XVJyMjA2lpaU3aCwsL4e3t3Ubk/6XT6czu68hcJU+AuTqizHva7mNOrjU1NWZvk4U2EREREdml0tJSVFRUIDIyUmqrr6/H3r17sW7dOpw4cQLAjbPWQUFBUp+KigrpLLdGo0FdXR0qKytNzmpXVFQgJiamxW0vWrQIqamp0vuqqiqEhIQgISEBfn5+bcZuNBqh0+kQHx8PpVJpftIOxlXyBJirIwvX7mpxmaqTwCtRDWbl2nhlizlYaBMRERGRXRo9ejSOHDli0jZ9+nQMGDAACxcuRN++faHRaKDT6RAREQEAqKurQ1FREVauXAkAiIyMhFKphE6nQ1JSEgCgvLwcR48eRWZmZovbVqlUUKlUTdqVSqVFhYel/R2Vq+QJMFdHZKhv/QoXwLxcLdkXLLSJiIiIyC75+voiPDzcpM3HxweBgYFSe0pKCtLT0xEWFoawsDCkp6fD29sbkydPBgD4+/tjxowZmDdvHgIDAxEQEID58+dj8ODBTSZXIyKSCwttIiIiInJYCxYsQG1tLWbOnInKykpER0ejsLAQvr6+Up81a9bA3d0dSUlJqK2txejRo5Gbmws3NzcbRk5EzoyFNhERERE5jD179pi8VygU0Gq10Gq1LX7G09MTa9euxdq1azs2OCKi/x+fo01EREREREQkIxbaRERERERERDJioU1EREREREQkIxbaREQ2kJGRAYVCgZSUFKlNCAGtVovg4GB4eXlh5MiROHbsmMnnDAYD5syZg27dusHHxwcTJkzA2bNnrRw9EREREbWGhTYRkZWVlJRg06ZNGDJkiEl7ZmYmVq9ejXXr1qGkpAQajQbx8fGorq6W+qSkpKCgoAD5+fnYt28frly5gsTERNTX11s7DSIiIiJqAQttIiIrunLlCqZMmYK33noLXbt2ldqFEMjKysKSJUswadIkhIeHY/PmzaipqUFeXh4A4PLly8jOzsaqVasQFxeHiIgIbNmyBUeOHMHu3bttlRIRERER3YSFNhGRFc2aNQvjxo1DXFycSXtZWRn0ej0SEhKkNpVKhdjYWBQXFwMASktLYTQaTfoEBwcjPDxc6kNEREREtsfnaBMRWUl+fj4OHTqEkpKSJsv0ej0AQK1Wm7Sr1WqcPn1a6uPh4WFyJryxT+Pnb2YwGGAwGKT3VVVVAACj0Qij0dhmzI19VJ1Em33sTWNc9hpfaxi7bbhS7I6YIxGRI2GhTURkBWfOnMHcuXNRWFgIT0/PFvspFAqT90KIJm03a61PRkYG0tLSmrQXFhbC29vbjMhveCWqocVl27dvN3s9tqDT6WwdQrsxdttwhdhramo6OBIiItfGQpuIyApKS0tRUVGByMhIqa2+vh579+7FunXrcOLECQA3zloHBQVJfSoqKqSz3BqNBnV1daisrDQ5q11RUYGYmJhmt7to0SKkpqZK76uqqhASEoKEhAT4+fm1GbfRaIROp8NLBzvB0NB8MX9UO6bN9dhCY+zx8fFQKpW2DscijN02XCn2xqtbiIioY7DQJiKygtGjR+PIkSMmbdOnT8eAAQOwcOFC9O3bFxqNBjqdDhEREQCAuro6FBUVYeXKlQCAyMhIKJVK6HQ6JCUlAQDKy8tx9OhRZGZmNrtdlUoFlUrVpF2pVFpUSBgaFDDUN19o23tBYmmu9oSx24YrxO6o+REROQoW2kREVuDr64vw8HCTNh8fHwQGBkrtKSkpSE9PR1hYGMLCwpCeng5vb29MnjwZAODv748ZM2Zg3rx5CAwMREBAAObPn4/Bgwc3mVyNiIiIiGyHhTYRkZ1YsGABamtrMXPmTFRWViI6OhqFhYXw9fWV+qxZswbu7u5ISkpCbW0tRo8ejdzcXLi5udkwciIiIiL6Ldkf75WRkYGhQ4fC19cXPXr0wMSJE6V7DxsJIaDVahEcHAwvLy+MHDkSx44dkzsUIiK7tmfPHmRlZUnvFQoFtFotysvLce3aNRQVFTU5C+7p6Ym1a9fi4sWLqKmpwccff4yQkBArR05ERERErZG90C4qKsKsWbOwf/9+6HQ6XL9+HQkJCbh69arUJzMzE6tXr8a6detQUlICjUaD+Ph4VFdXyx0OERERERERkVXJfun4zp07Td7n5OSgR48eKC0txf333w8hBLKysrBkyRJMmjQJALB582ao1Wrk5eUhOTlZ7pCIiIiIiIiIrEb2M9o3u3z5MgAgICAAAFBWVga9Xo+EhASpj0qlQmxsLIqLizs6HCIiIiIiIqIO1aGToQkhkJqaihEjRkj3Ger1egCQngvbSK1W4/Tp082ux2AwwGAwSO8bn/1oNBphNBrbjKOxj6qTsDwJO9WYi7Pk5Gz5AMypvcz5mW5PXyIiIiIia+nQQnv27Nn47rvvsG/fvibLFArT57EKIZq0NcrIyEBaWlqT9sLCQnh7e5sdzytRDWb3dRTOlpOz5QMwJ0tt377d7L41NTUdFgcRERERUXt1WKE9Z84cbNu2DXv37kXPnj2ldo1GA+DGme2goCCpvaKioslZ7kaLFi1Camqq9L6qqgohISFISEiAn59fm7EYjUbodDq8dLATDA3NF/OORtVJ4JWoBqfJydnyAZhTex3VjjG7b+PVLURERERE9kT2QlsIgTlz5qCgoAB79uxBaGioyfLQ0FBoNBrodDpEREQAAOrq6lBUVISVK1c2u06VSgWVStWkXalUQqlUmh2boUEBQ71zFDyNnC0nZ8sHYE6WsuRn2pK+RERERETWInuhPWvWLOTl5eGjjz6Cr6+vdE+2v78/vLy8oFAokJKSgvT0dISFhSEsLAzp6enw9vbG5MmT5Q6HiIiIiIiIyKpkn3V848aNuHz5MkaOHImgoCDp9f7770t9FixYgJSUFMycORNRUVE4d+4cCgsL4evrK3c4REREROTANm7ciCFDhsDPzw9+fn4YNmwYduzYIS0XQkCr1SI4OBheXl4YOXIkjh07ZrIOg8GAOXPmoFu3bvDx8cGECRNw9uxZa6dCRC5E9kJbCNHs6+mnn5b6KBQKaLValJeX49q1aygqKpJmJSciIiIiatSzZ0+sWLECBw8exMGDB/H73/8eDz74oFRMZ2ZmYvXq1Vi3bh1KSkqg0WgQHx+P6upqaR0pKSkoKChAfn4+9u3bhytXriAxMRH19fW2SouInFyHP0ebiIiIiKi9xo8fjwceeAD9+vVDv3798Oqrr6Jz587Yv38/hBDIysrCkiVLMGnSJISHh2Pz5s2oqalBXl4eAODy5cvIzs7GqlWrEBcXh4iICGzZsgVHjhzB7t27bZwdETmrDn28FxERERHJo88Ln7a4TOUmkHmPFYOxkfr6enzwwQe4evUqhg0bhrKyMuj1eiQkJEh9VCoVYmNjUVxcjOTkZJSWlsJoNJr0CQ4ORnh4OIqLizFmjPlPuyAiMhcLbSIiIiKya0eOHMGwYcNw7do1dO7cGQUFBRg4cCCKi4sBoMkjYtVqNU6fPg3gxiNlPTw80LVr1yZ9GiftbY7BYIDBYJDeNz5S0mg0wmg0thlzYx9z+joyV8kTYK6OTOUmWl7W6cYyS36uzcFCm4iIiIjsWv/+/XH48GFcunQJH374IaZNm4aioiJpuUJh+shJIUSTtpu11ScjIwNpaWlN2gsLC+Ht7W127Dqdzuy+jsxV8gSYqyMy54ofc3Ktqakxe5sstImIiIjIrnl4eOB3v/sdACAqKgolJSV4/fXXsXDhQgA3zloHBQVJ/SsqKqSz3BqNBnV1daisrDQ5q11RUYGYmJgWt7lo0SKkpqZK76uqqhASEoKEhAT4+fm1GbPRaIROp0N8fDyUSqVlCTsQV8kTYK6OLFy7q8Vlqk4Cr0Q1mJVr45Ut5mChTUREREQORQgBg8GA0NBQaDQa6HQ6REREAADq6upQVFSElStXAgAiIyOhVCqh0+mQlJQEACgvL8fRo0eRmZnZ4jZUKhVUKlWTdqVSaVHhYWl/R+UqeQLM1REZ6lu/wgUwL1dL9gULbSIiIiKyW4sXL8bYsWMREhKC6upq5OfnY8+ePdi5cycUCgVSUlKQnp6OsLAwhIWFIT09Hd7e3pg8eTIAwN/fHzNmzMC8efMQGBiIgIAAzJ8/H4MHD0ZcXJyNsyMiZ8VCm4iIiIjs1i+//IKnnnoK5eXl8Pf3x5AhQ7Bz507Ex8cDABYsWIDa2lrMnDkTlZWViI6ORmFhIXx9faV1rFmzBu7u7khKSkJtbS1Gjx6N3NxcuLm52SotInJyLLSJiIiIyG5lZ2e3ulyhUECr1UKr1bbYx9PTE2vXrsXatWtljo6IqHmdbB0AEZEr2LhxI4YMGQI/Pz/4+flh2LBh2LFjh7RcCAGtVovg4GB4eXlh5MiROHbsmMk6DAYD5syZg27dusHHxwcTJkzA2bNnrZ0KEREREbWBhTYRkRX07NkTK1aswMGDB3Hw4EH8/ve/x4MPPigV05mZmVi9ejXWrVuHkpISaDQaxMfHo7q6WlpHSkoKCgoKkJ+fj3379uHKlStITExEfX29rdIiIiIiomaw0CYisoLx48fjgQceQL9+/dCvXz+8+uqr6Ny5M/bv3w8hBLKysrBkyRJMmjQJ4eHh2Lx5M2pqapCXlwcAuHz5MrKzs7Fq1SrExcUhIiICW7ZswZEjR7B7924bZ0dEREREv8V7tImIrKy+vh4ffPABrl69imHDhqGsrAx6vR4JCQlSH5VKhdjYWBQXFyM5ORmlpaUwGo0mfYKDgxEeHo7i4mKMGTOm2W0ZDAYYDAbpfePzH41GI4xGY5uxNvZRdRJt9rE3jXHZa3ytYey2Ye+xq9xa/jls/Bk1N3Z7zZGIyFmw0CYispIjR45g2LBhuHbtGjp37oyCggIMHDgQxcXFAAC1Wm3SX61W4/Tp0wAAvV4PDw8PdO3atUkfvV7f4jYzMjKQlpbWpL2wsBDe3t5mx/5KVEOLy7Zv3272emxBp9PZOoR2Y+y2Ya+xZ97Tdh9zY6+pqbnFaIiIqDUstImIrKR///44fPgwLl26hA8//BDTpk1DUVGRtFyhUJj0F0I0abtZW30WLVqE1NRU6X1VVRVCQkKQkJAAPz+/NmM2Go3Q6XR46WAnGBqa385RbfNn022tMfb4+HgolUpbh2MRxm4b9h57uHZXi8tUnQReiWowO/bGq1uIiKhjsNAmIrISDw8P/O53vwMAREVFoaSkBK+//joWLlwI4MZZ66CgIKl/RUWFdJZbo9Ggrq4OlZWVJme1KyoqEBMT0+I2VSoVVCpVk3alUmlRIWFoUMBQ33yhbY8FyW9Zmqs9Yey2Ya+xt/Qz+Fvmxm6P+RERORNOhkZEZCNCCBgMBoSGhkKj0Zhc8llXV4eioiKpiI6MjIRSqTTpU15ejqNHj7ZaaBMRERGR9fGMNhGRFSxevBhjx45FSEgIqqurkZ+fjz179mDnzp1QKBRISUlBeno6wsLCEBYWhvT0dHh7e2Py5MkAAH9/f8yYMQPz5s1DYGAgAgICMH/+fAwePBhxcXE2zo6IiIiIfouFNhGRFfzyyy946qmnUF5eDn9/fwwZMgQ7d+5EfHw8AGDBggWora3FzJkzUVlZiejoaBQWFsLX11dax5o1a+Du7o6kpCTU1tZi9OjRyM3NhZubm63SIiIiIqJmsNAmIrKC7OzsVpcrFApotVpotdoW+3h6emLt2rVYu3atzNERERERkZx4jzYRERERERGRjFhoExEREREREcmIhTYRERERERGRjFhoExEREREREcmIhTYRERERERGRjFhoExEREREREcmIhTYRERERERGRjFhoExEREREREcmIhTYRERERERGRjFhoExEREREREcmIhTYRERERERGRjNxtHQARERERkbMK1+6CoV7R7LJTK8ZZORoishae0SYiIiIiu5WRkYGhQ4fC19cXPXr0wMSJE3HixAmTPkIIaLVaBAcHw8vLCyNHjsSxY8dM+hgMBsyZMwfdunWDj48PJkyYgLNnz1ozFSJyISy0iYiIiMhuFRUVYdasWdi/fz90Oh2uX7+OhIQEXL16VeqTmZmJ1atXY926dSgpKYFGo0F8fDyqq6ulPikpKSgoKEB+fj727duHK1euIDExEfX19bZIi4icHC8dJyIiIiK7tXPnTpP3OTk56NGjB0pLS3H//fdDCIGsrCwsWbIEkyZNAgBs3rwZarUaeXl5SE5OxuXLl5GdnY133nkHcXFxAIAtW7YgJCQEu3fvxpgxY6yeFxE5NxbaREREROQwLl++DAAICAgAAJSVlUGv1yMhIUHqo1KpEBsbi+LiYiQnJ6O0tBRGo9GkT3BwMMLDw1FcXNxsoW0wGGAwGKT3VVVVAACj0Qij0dhmnI19VJ1Em30cWWMOzpBLW5ir41K5tfxz2PgzasnPtTlYaBMRERGRQxBCIDU1FSNGjEB4eDgAQK/XAwDUarVJX7VajdOnT0t9PDw80LVr1yZ9Gj9/s4yMDKSlpTVpLywshLe3t9kxvxLV0OKy7du3m70ee6fT6WwdgtUwV8eTeU/bfczJtaamxuxtstAmIiIiIocwe/ZsfPfdd9i3b1+TZQqF6czeQogmbTdrrc+iRYuQmpoqva+qqkJISAgSEhLg5+fXZqxGoxE6nQ4vHewEQ0Pz2ziqdfxL1hvzjI+Ph1KptHU4HYq5Oq5w7a4Wl6k6CbwS1WBWro1XtpiDhTYRERER2b05c+Zg27Zt2Lt3L3r27Cm1azQaADfOWgcFBUntFRUV0llujUaDuro6VFZWmpzVrqioQExMTLPbU6lUUKlUTdqVSqVFhYehQdHi472coYBpZOl+cWTM1fG09DP4W+bkasm+4KzjRERWwMfTEBG1jxACs2fPxtatW/H5558jNDTUZHloaCg0Go3JZZ91dXUoKiqSiujIyEgolUqTPuXl5Th69GiLhTYR0a1goU1EZAV8PA0RUfvMmjULW7ZsQV5eHnx9faHX66HX61FbWwvgxiXjKSkpSE9PR0FBAY4ePYqnn34a3t7emDx5MgDA398fM2bMwLx58/DZZ5/hm2++wZNPPonBgwdLs5ATEcmJl44TEVkBH09DRNQ+GzduBACMHDnSpD0nJwdPP/00AGDBggWora3FzJkzUVlZiejoaBQWFsLX11fqv2bNGri7uyMpKQm1tbUYPXo0cnNz4ebmZq1UyEmEa3e1eCnyqRXjrBwN2SsW2kRENsDH03Q8R340CWO3DXuPXa7H01jSzx4I0XLejRQKBbRaLbRabYt9PD09sXbtWqxdu1bG6IiImsdCm4jIyvh4Guty5EeTMHbbsNfY5Xo8DWDZI2qIiMhyshfae/fuxV/+8heUlpaivLwcBQUFmDhxorRcCIG0tDRs2rRJurRn/fr1GDRokNyhEBHZJT6exjoc+dEkjN027D12uR5PA1j2iBoiIrKc7IX21atXceedd2L69Ol4+OGHmyxvnOwnNzcX/fr1w/LlyxEfH48TJ06Y3EdDROSM+Hga63PkR5Mwdtuw19jlejxNYz8iIuo4ss86PnbsWCxfvlyazOe3bp7sJzw8HJs3b0ZNTQ3y8vLkDoWIyG7w8TRERERErsOq92ibM9lPc6wxmY+jaczFWXJytnwA5tRelkzQ40iT+cyaNQt5eXn46KOPpMfTADceOePl5WXyeJqwsDCEhYUhPT29xcfTBAYGIiAgAPPnz+fjaYiIiIjsjFULbXMm+2mONSbzcVTOlpOz5QMwJ0tZMrGWI03mw8fTEBEREbkOm8w6bulkP9aYzMfRNE564iw5OVs+AHNqL0sm1nKkyXz4eBoiIiIi12HVQtucyX6aY43JfByVs+XkbPkAzMlSlvxMczIfIiIiIrJHsk+G1hpzJvshIiIiIiIicmSyn9G+cuUKfvzxR+l9WVkZDh8+jICAAPTq1avNyX6IiIiIiIiIHJnshfbBgwcxatQo6X3jvdXTpk1Dbm6uWZP9EBERERERETkq2QvtkSNHtjrpjzmT/RARERERERE5Kqveo01ERERERETk7FhoExEREREREcmIhTYRERERERGRjFhoExEREREREcmIhTYRERERERGRjFhoExEREREREcmIhTYRERERERGRjFhoExEREREREcmIhTYRERERERGRjFhoExEREREREcmIhTYRERER2a29e/di/PjxCA4OhkKhwD//+U+T5UIIaLVaBAcHw8vLCyNHjsSxY8dM+hgMBsyZMwfdunWDj48PJkyYgLNnz1oxCyJyNSy0iYiIiMhuXb16FXfeeSfWrVvX7PLMzEysXr0a69atQ0lJCTQaDeLj41FdXS31SUlJQUFBAfLz87Fv3z5cuXIFiYmJqK+vt1YaRORi3G0dABERERFRS8aOHYuxY8c2u0wIgaysLCxZsgSTJk0CAGzevBlqtRp5eXlITk7G5cuXkZ2djXfeeQdxcXEAgC1btiAkJAS7d+/GmDFjrJYLEbkOFtpERFawd+9e/OUvf0FpaSnKy8tRUFCAiRMnSsuFEEhLS8OmTZtQWVmJ6OhorF+/HoMGDZL6GAwGzJ8/H++99x5qa2sxevRobNiwAT179rRBRkREtldWVga9Xo+EhASpTaVSITY2FsXFxUhOTkZpaSmMRqNJn+DgYISHh6O4uLjFQttgMMBgMEjvq6qqAABGoxFGo7HN2Br7qDqJNvs4ssYcnCGXtrjKMQWc77iq3Fo+Zo3H05Kfa3Ow0CYisoLGSx+nT5+Ohx9+uMnyxksfc3Nz0a9fPyxfvhzx8fE4ceIEfH19Ady49PHjjz9Gfn4+AgMDMW/ePCQmJqK0tBRubm7WTomIyOb0ej0AQK1Wm7Sr1WqcPn1a6uPh4YGuXbs26dP4+eZkZGQgLS2tSXthYSG8vb3NjvGVqIYWl23fvt3s9dg7nU5n6xCsxlWOKeA8xzXznrb7mJNrTU2N2dtkoU1EZAW89JGIqOMoFAqT90KIJm03a6vPokWLkJqaKr2vqqpCSEgIEhIS4Ofn12ZMRqMROp0OLx3sBEND89s5qnX8sbsxz/j4eCiVSluH06Fc5ZgCzndcw7W7Wlym6iTwSlSDWbk2XtliDhbaREQ21pGXPhIROTONRgPgxlnroKAgqb2iokI6y63RaFBXV4fKykqTs9oVFRWIiYlpcd0qlQoqlapJu1KptKjwMDQoYKhvvihzhgKmkaX7xZG5yjEFnOe4tnS8fsucXC3ZFyy0iYhsrCMvfXTlewwd+f4yxm4b9h67XPcYWtLP3oWGhkKj0UCn0yEiIgIAUFdXh6KiIqxcuRIAEBkZCaVSCZ1Oh6SkJABAeXk5jh49iszMTJvFTkTOjYU2EZGd6IhLH3mPoWPfX8bYbcNeY5frHkPAsvsMbe3KlSv48ccfpfdlZWU4fPgwAgIC0KtXL6SkpCA9PR1hYWEICwtDeno6vL29MXnyZACAv78/ZsyYgXnz5iEwMBABAQGYP38+Bg8eLN2KQ0QkNxbaREQ21pGXPrryPYaOfH8ZY7cNe49drnsMAcvuM7S1gwcPYtSoUdL7xjFt2rRpyM3NxYIFC1BbW4uZM2dKT20oLCyUJpIEgDVr1sDd3R1JSUnSUxtyc3M5kSQRdRgW2kRENtaRlz7yHkPHvr+MsduGvcYu1z2Gjf0cxciRIyFEy5fNKxQKaLVaaLXaFvt4enpi7dq1WLt2bQdESETUFAttIiIr4KWPRERERK6DhTYRkRXw0kciIiIi18FCm4jICnjpIxEREZHr6GTrAIiIiIiIiIicCQttIiIiIiIiIhmx0CYiIiIiIiKSEQttIiIiIiIiIhmx0CYiIiIiIiKSEQttIiIiIiIiIhmx0CYiIiIiIiKSEQttIiIiIiIiIhmx0CYiIiIiIiKSEQttIiIiIiIiIhmx0CYiIiIiIiKSEQttIiIiIiIiIhmx0CYiIiIiIiKSEQttIiIiIiIiIhmx0CYiIiIiIiKSEQttIiIiIiIiIhmx0CYiIiIiIiKSEQttIiIiIiIiIhmx0CYiIiIiIiKSkU0L7Q0bNiA0NBSenp6IjIzEl19+actwiIgcAsdOIqL24fhJRNZis0L7/fffR0pKCpYsWYJvvvkG9913H8aOHYuff/7ZViEREdk9jp1ERO3D8ZOIrMlmhfbq1asxY8YM/OEPf8Add9yBrKwshISEYOPGjbYKiYjI7nHsJCJqH46fRGRN7rbYaF1dHUpLS/HCCy+YtCckJKC4uLhJf4PBAIPBIL2/fPkyAODXX3+F0Whsc3tGoxE1NTVwN3ZCfYPiFqO3D+4NAjU1DU6Tk7PlAzCn9rp48aLZfaurqwEAQogOicXeWDp2AtYZPy05ZtbUGPvFixehVCptHY5FGLtt2Hvs7tevtrzs/x+fzY2d4+cNHD9vnb3/3MjJVY4p4HzHVa7x05Kx0yaF9oULF1BfXw+1Wm3Srlarodfrm/TPyMhAWlpak/bQ0NAOi9ERTLZ1ADJztnwA5tQe3VZZ/pnq6mr4+/vLH4ydsXTsBKwzfrbnmBGR/NozPnP85PhJ8uIxdUyWjp/mjJ02KbQbKRSmfwkSQjRpA4BFixYhNTVVet/Q0IBff/0VgYGBzfa/WVVVFUJCQnDmzBn4+fndeuB2wNlycrZ8AOZkDUIIVFdXIzg42NahWJW5Yyfg2uMnY7cNxm4blsbO8fMGjp+3zlXyBJirs7IkV0vGTpsU2t26dYObm1uTvyBWVFQ0+UsjAKhUKqhUKpO2Ll26WLxdPz8/p/uH4mw5OVs+AHPqaK5wJqaRpWMnwPETYOy2wthtw5LYOX5y/JSTq+QJMFdnZW6u5o6dNpkMzcPDA5GRkdDpdCbtOp0OMTExtgiJiMjucewkImofjp9EZG02u3Q8NTUVTz31FKKiojBs2DBs2rQJP//8M5599llbhUREZPc4dhIRtQ/HTyKyJpsV2o899hguXryIZcuWoby8HOHh4di+fTt69+4t+7ZUKhWWLl3a5PIfR+ZsOTlbPgBzoo5hzbETcOxjzthtg7HbhiPHbi0cPzuGq+QJMFdn1VG5KoSrPNeBiIiIiIiIyApsco82ERERERERkbNioU1EREREREQkIxbaRERERERERDJioU1EREREREQkI6cvtDds2IDQ0FB4enoiMjISX375pa1DalZGRgaGDh0KX19f9OjRAxMnTsSJEydM+gghoNVqERwcDC8vL4wcORLHjh0z6WMwGDBnzhx069YNPj4+mDBhAs6ePWvNVFqUkZEBhUKBlJQUqc0Rczp37hyefPJJBAYGwtvbG3fddRdKS0ul5Y6W0/Xr1/Hiiy8iNDQUXl5e6Nu3L5YtW4aGhgapj6PlRJaxdJwsKipCZGQkPD090bdvX7z55ptWirQpS2LfunUr4uPj0b17d/j5+WHYsGHYtWuXFaM11d7fT//617/g7u6Ou+66q2MDbIWlsRsMBixZsgS9e/eGSqXC7bffjrfffttK0ZqyNPZ3330Xd955J7y9vREUFITp06fj4sWLVor2hr1792L8+PEIDg6GQqHAP//5zzY/Y08/p87IlY6Jpbnu2bMHCoWiyevf//63dQJuJ3O+izfHEY9re3J11OO6ceNGDBkyBH5+ftLv/h07drT6GdmOqXBi+fn5QqlUirfeekscP35czJ07V/j4+IjTp0/bOrQmxowZI3JycsTRo0fF4cOHxbhx40SvXr3ElStXpD4rVqwQvr6+4sMPPxRHjhwRjz32mAgKChJVVVVSn2effVbcdtttQqfTiUOHDolRo0aJO++8U1y/ft0WaUkOHDgg+vTpI4YMGSLmzp0rtTtaTr/++qvo3bu3ePrpp8XXX38tysrKxO7du8WPP/7osDktX75cBAYGik8++USUlZWJDz74QHTu3FlkZWU5bE5kPkvHyZ9++kl4e3uLuXPniuPHj4u33npLKJVK8Y9//MPKkVse+9y5c8XKlSvFgQMHxMmTJ8WiRYuEUqkUhw4dsnLk7f/9dOnSJdG3b1+RkJAg7rzzTusEe5P2xD5hwgQRHR0tdDqdKCsrE19//bX417/+ZcWob7A09i+//FJ06tRJvP766+Knn34SX375pRg0aJCYOHGiVePevn27WLJkifjwww8FAFFQUNBqf3v6OXVWrnRMLM31iy++EADEiRMnRHl5ufSy9+8D5nwXv5mjHtf25Oqox3Xbtm3i008/FSdOnBAnTpwQixcvFkqlUhw9erTZ/nIeU6cutO+55x7x7LPPmrQNGDBAvPDCCzaKyHwVFRUCgCgqKhJCCNHQ0CA0Go1YsWKF1OfatWvC399fvPnmm0KIG1/AlEqlyM/Pl/qcO3dOdOrUSezcudO6CfxGdXW1CAsLEzqdTsTGxkqFtiPmtHDhQjFixIgWlztiTuPGjRPPPPOMSdukSZPEk08+KYRwzJzIfJaOkwsWLBADBgwwaUtOThb33ntvh8XYEjnG+IEDB4q0tDS5Q2tTe2N/7LHHxIsvviiWLl1qs0Lb0th37Ngh/P39xcWLF60RXqssjf0vf/mL6Nu3r0nbG2+8IXr27NlhMbbFnELHnn5OXYErHRNLCu3KykqrxNRRbv4u3hxnOa7m5Oosx1UIIbp27Sr++te/NrtMzmPqtJeO19XVobS0FAkJCSbtCQkJKC4utlFU5rt8+TIAICAgAABQVlYGvV5vko9KpUJsbKyUT2lpKYxGo0mf4OBghIeH2zTnWbNmYdy4cYiLizNpd8Sctm3bhqioKDz66KPo0aMHIiIi8NZbb0nLHTGnESNG4LPPPsPJkycBAN9++y327duHBx54AIBj5kTmac84+dVXXzXpP2bMGBw8eBBGo7HDYr2ZHGN8Q0MDqqurpXHWWtobe05ODv7f//t/WLp0aUeH2KL2xN44bmZmZuK2225Dv379MH/+fNTW1lojZEl7Yo+JicHZs2exfft2CCHwyy+/4B//+AfGjRtnjZDbzV5+Tum/XPGYREREICgoCKNHj8YXX3xh63AsdvN38eY4y3E1J9dGjnxc6+vrkZ+fj6tXr2LYsGHN9pHzmLq3O1I7d+HCBdTX10OtVpu0q9Vq6PV6G0VlHiEEUlNTMWLECISHhwOAFHNz+Zw+fVrq4+Hhga5duzbpY6uc8/PzcejQIZSUlDRZ5og5/fTTT9i4cSNSU1OxePFiHDhwAM899xxUKhWmTp3qkDktXLgQly9fxoABA+Dm5ob6+nq8+uqreOKJJ6R4G+O7OV57zYnM055xUq/XN9v/+vXruHDhAoKCgjos3t+SY4xftWoVrl69iqSkpI4IsUXtif2HH37ACy+8gC+//BLu7rb71d2e2H/66Sfs27cPnp6eKCgowIULFzBz5kz8+uuvVr1Puz2xx8TE4N1338Vjjz2Ga9eu4fr165gwYQLWrl1rjZDbzV5+Tum/XOmYBAUFYdOmTYiMjITBYMA777yD0aNHY8+ePbj//vttHZ5Zmvsu3hxnOK7m5urIx/XIkSMYNmwYrl27hs6dO6OgoAADBw5stq+cx9RpC+1GCoXC5L0QokmbvZk9eza+++477Nu3r8my9uRjq5zPnDmDuXPnorCwEJ6eni32c6ScGhoaEBUVhfT0dAA3/qp37NgxbNy4EVOnTpX6OVJO77//PrZs2YK8vDwMGjQIhw8fRkpKCoKDgzFt2jSpnyPlRJax9Ng217+5dmto7xj/3nvvQavV4qOPPkKPHj06KrxWmRt7fX09Jk+ejLS0NPTr189a4bXKkv3e0NAAhUKBd999F/7+/gCA1atX45FHHsH69evh5eXV4fH+liWxHz9+HM899xxefvlljBkzBuXl5fjzn/+MZ599FtnZ2dYIt93s6eeUbnCVY9K/f3/0799fej9s2DCcOXMGr732mt0XZI1a+y5+M0c/rubm6sjHtX///jh8+DAuXbqEDz/8ENOmTUNRUVGLxbZcx9RpLx3v1q0b3NzcmvyVuqKioslfKezJnDlzsG3bNnzxxRfo2bOn1K7RaACg1Xw0Gg3q6upQWVnZYh9rKi0tRUVFBSIjI+Hu7g53d3cUFRXhjTfegLu7uxSTI+UUFBTU5IfyjjvuwM8//wzAMY/Tn//8Z7zwwgt4/PHHMXjwYDz11FN4/vnnkZGRIcULOFZOZJ72jJMajabZ/u7u7ggMDOywWG92K2P8+++/jxkzZuDvf/97k1tarMHS2Kurq3Hw4EHMnj1bGkuXLVuGb7/9Fu7u7vj888+tFXq79ntQUBBuu+02qcgGboybQgirPpmgPbFnZGRg+PDh+POf/4whQ4ZgzJgx2LBhA95++22Ul5dbI+x2sZefU/ovVz8m9957L3744Qdbh2GWlr6LN8fRj6sluTbHUY6rh4cHfve73yEqKgoZGRm488478frrrzfbV85j6rSFtoeHByIjI6HT6UzadTodYmJibBRVy4QQmD17NrZu3YrPP/8coaGhJstDQ0Oh0WhM8qmrq0NRUZGUT2RkJJRKpUmf8vJyHD161CY5jx49GkeOHMHhw4elV1RUFKZMmYLDhw+jb9++DpfT8OHDmzz+4OTJk+jduzcAxzxONTU16NTJdChwc3OTHu/liDmRedozTg4bNqxJ/8LCQkRFRUGpVHZYrDdr7xj/3nvv4emnn0ZeXp7N7rO1NHY/P78mY+mzzz4r/YU+OjraWqG3a78PHz4c58+fx5UrV6S2kydPolOnTu36Ytde7Ym9pfER+O8ZDntkLz+n9F+ufky++eYbu7+Muq3v4s1x1OPanlyb4wjHtTlCCBgMhmaXyXpMLZ4+zYE0PsYjOztbHD9+XKSkpAgfHx9x6tQpW4fWxP/+7/8Kf39/sWfPHpMp82tqaqQ+K1asEP7+/mLr1q3iyJEj4oknnmj2EUs9e/YUu3fvFocOHRK///3v7eoRS7+ddVwIx8vpwIEDwt3dXbz66qvihx9+EO+++67w9vYWW7Zscdicpk2bJm677Tbp8V5bt24V3bp1EwsWLHDYnMh8bY2TL7zwgnjqqaek/o2PvXj++efF8ePHRXZ2ts0f72Vu7Hl5ecLd3V2sX7/eZJy9dOmS3cd+M1vOOm5p7NXV1aJnz57ikUceEceOHRNFRUUiLCxM/OEPf7D72HNycoS7u7vYsGGD+H//7/+Jffv2iaioKHHPPfdYNe7q6mrxzTffiG+++UYAEKtXrxbffPON9Fgye/45dVaudEwszXXNmjWioKBAnDx5Uhw9elS88MILAoD48MMPbZWCWcz5Lu4sx7U9uTrqcV20aJHYu3evKCsrE999951YvHix6NSpkygsLBRCdOwxdepCWwgh1q9fL3r37i08PDzE3Xff3eq09bYEoNlXTk6O1KehoUEsXbpUaDQaoVKpxP333y+OHDlisp7a2loxe/ZsERAQILy8vERiYqL4+eefrZxNy24utB0xp48//liEh4cLlUolBgwYIDZt2mSy3NFyqqqqEnPnzhW9evUSnp6eom/fvmLJkiXCYDBIfRwtJ7JMa+PktGnTRGxsrEn/PXv2iIiICOHh4SH69OkjNm7caOWI/8uS2GNjY5sdZ6dNm2b9wIXl+/23bFloC2F57N9//72Ii4sTXl5eomfPniI1NdXkC501WRr7G2+8IQYOHCi8vLxEUFCQmDJlijh79qxVY258rE5L/3bt/efUGbnSMbE015UrV4rbb79deHp6iq5du4oRI0aITz/91DbBW8Cc7+LOclzbk6ujHtdnnnlGGvO7d+8uRo8eLRXZQnTsMVUIYcfXPhERERERERE5GKe9R5uIiIiIiIjIFlhoExEREREREcmIhTYRERERERGRjFhoExEREREREcmIhTYRERERERGRjFhoExEREREREcmIhTYRERERERGRjFhoExEREREREcmIhTYRERERERGRjFhok1154403oFAoEB4ebutQiIjswtdff42HHnoIvXr1gkqlglqtxrBhwzBv3jypz8iRIzFy5Ejp/alTp6BQKPDaa6/Jtg0iIkeTm5sLhUIhvdzd3dGzZ09Mnz4d586ds1oce/bsgUKhwD/+8Q+rbZNsj4U22ZW3334bAHDs2DF8/fXXNo6GiMi2Pv30U8TExKCqqgqZmZkoLCzE66+/juHDh+P999+X+m3YsAEbNmzo0G0QETmqnJwcfPXVV9DpdPjjH/+I9957D/fddx+uXr1q69DIibnbOgCiRgcPHsS3336LcePG4dNPP0V2djaio6NtHRYRkc1kZmYiNDQUu3btgrv7f39lP/7448jMzJTeDxw4sMO3QUTkqMLDwxEVFQUAGDVqFOrr6/HKK6/gn//8J6ZMmdLu9dbW1sLLy0uuMMnJ8Iw22Y3s7GwAwIoVKxATE4P8/HzU1NSY9Dl79iweeeQR+Pr6okuXLpgyZQpKSkqgUCiQm5tr0vfgwYOYMGECAgIC4OnpiYiICPz973+3VjpERLfs4sWL6Natm0kB3KhTp//+Cr/50vFGDQ0NePXVV9GrVy94enoiKioKn332Wbu2AQB9+vRBYmIiCgoKMGTIEHh6eqJv375444032pkhEZH13XvvvQCA06dPIy0tDdHR0QgICICfnx/uvvtuZGdnQwhh8pnG8W/r1q2IiIiAp6cn0tLSAADnzp3Dn/70J4SEhMDDwwPBwcF45JFH8Msvv5isw2g0YsmSJQgODoafnx/i4uJw4sQJ6yRNVsdCm+xCbW0t3nvvPQwdOhTh4eF45plnUF1djQ8++EDqc/XqVYwaNQpffPEFVq5cib///e9Qq9V47LHHmqzviy++wPDhw3Hp0iW8+eab+Oijj3DXXXfhsccea1KQExHZq2HDhuHrr7/Gc889h6+//hpGo9Giz69btw47d+5EVlYWtmzZgk6dOmHs2LH46quv2r2Nw4cPIyUlBc8//zwKCgoQExODuXPnmn0/OBGRrf34448AgO7du+PUqVNITk7G3//+d2zduhWTJk3CnDlz8MorrzT53KFDh/DnP/8Zzz33HHbu3ImHH34Y586dw9ChQ1FQUIDU1FTs2LEDWVlZ8Pf3R2VlpcnnFy9ejNOnT+Ovf/0rNm3ahB9++AHjx49HfX29VfImKxNEduBvf/ubACDefPNNIYQQ1dXVonPnzuK+++6T+qxfv14AEDt27DD5bHJysgAgcnJypLYBAwaIiIgIYTQaTfomJiaKoKAgUV9f33HJEBHJ5MKFC2LEiBECgAAglEqliImJERkZGaK6ulrqFxsbK2JjY6X3ZWVlAoAIDg4WtbW1UntVVZUICAgQcXFxFm9DCCF69+4tFAqFOHz4sEl7fHy88PPzE1evXpV5DxARtV9OTo4AIPbv3y+MRqOorq4Wn3zyiejevbvw9fUVer3epH99fb0wGo1i2bJlIjAwUDQ0NEjLevfuLdzc3MSJEydMPvPMM88IpVIpjh8/3mIcX3zxhQAgHnjgAZP2v//97wKA+Oqrr2TIluwNz2iTXcjOzoaXlxcef/xxAEDnzp3x6KOP4ssvv8QPP/wAACgqKoKvry/+53/+x+SzTzzxhMn7H3/8Ef/+97+le26uX78uvR544AGUl5fzMh0icgiBgYH48ssvUVJSghUrVuDBBx/EyZMnsWjRIgwePBgXLlxo9fOTJk2Cp6en9N7X1xfjx4/H3r17pTMolm5j0KBBuPPOO03aJk+ejKqqKhw6dEimzImI5HPvvfdCqVTC19cXiYmJ0Gg02LFjB9RqNT7//HPExcXB398fbm5uUCqVePnll3Hx4kVUVFSYrGfIkCHo16+fSduOHTswatQo3HHHHW3GMWHChCbrA25cwk7Oh4U22dyPP/6IvXv3Yty4cRBC4NKlS7h06RIeeeQRAP+difzixYtQq9VNPn9zW+P9MPPnz4dSqTR5zZw5EwDa/HJKRGRPoqKisHDhQnzwwQc4f/48nn/+eZw6darNyco0Gk2zbXV1dbhy5Uq7ttHSOoEb4zQRkb3529/+hpKSEnzzzTc4f/48vvvuOwwfPhwHDhxAQkICAOCtt97Cv/71L5SUlGDJkiUAbtza+FtBQUFN1v2f//wHPXv2NCuOwMBAk/cqlarZ7ZBz4KzjZHNvv/02hBD4xz/+0ezzBTdv3ozly5cjMDAQBw4caLJcr9ebvO/WrRsAYNGiRZg0aVKz2+zfv78MkRMRWZ9SqcTSpUuxZs0aHD16tNW+N4+PjW0eHh7o3Llzu7bR0jqBpl8iiYjswR133CHNOv5b+fn5UCqV+OSTT0yu/vnnP//Z7HoUCkWTtu7du+Ps2bOyxUrOg2e0yabq6+uxefNm3H777fjiiy+avObNm4fy8nLs2LEDsbGxqK6uxo4dO0zWkZ+fb/K+f//+CAsLw7fffouoqKhmX76+vtZMk4ioXcrLy5tt//777wEAwcHBrX5+69atuHbtmvS+uroaH3/8Me677z64ubm1axvHjh3Dt99+a9KWl5cHX19f3H333a3GQ0RkTxQKBdzd3aXxELhxdvmdd94xex1jx47FF198wdsSqQme0Sab2rFjB86fP4+VK1c2+2ia8PBwrFu3DtnZ2diyZQvWrFmDJ598EsuXL8fvfvc77NixA7t27QJg+hia//u//8PYsWMxZswYPP3007jtttvw66+/4vvvv8ehQ4dMZjMnIrJXY8aMQc+ePTF+/HgMGDAADQ0NOHz4MFatWoXOnTtj7ty5rX7ezc0N8fHxSE1NRUNDA1auXImqqirpkTTt2UZwcDAmTJgArVaLoKAgbNmyBTqdDitXroS3t3eH7Acioo4wbtw4rF69GpMnT8af/vQnXLx4Ea+99pp0Sbc5li1bhh07duD+++/H4sWLMXjwYFy6dAk7d+5EamoqBgwY0IEZkD1joU02lZ2dDQ8PD0yfPr3Z5d26dcNDDz2Ef/zjH7hy5Qo+//xzpKSkYMGCBVAoFEhISMCGDRvwwAMPoEuXLtLnRo0ahQMHDuDVV19FSkoKKisrERgYiIEDByIpKclK2RER3ZoXX3wRH330EdasWYPy8nIYDAYEBQUhLi4OixYtanPyndmzZ+PatWt47rnnUFFRgUGDBuHTTz/F8OHD272Nu+66C9OnT8fSpUvxww8/IDg4GKtXr8bzzz/fIfuAiKij/P73v8fbb7+NlStXYvz48bjtttvwxz/+ET169MCMGTPMWsdtt92GAwcOYOnSpVixYgUuXryI7t27Y8SIEQgICOjgDMieKYS46WnsRA4mPT0dL774In7++WezJ6MgIiLL9enTB+Hh4fjkk09sHQoREZFd4xltcijr1q0DAAwYMABGoxGff/453njjDTz55JMssomIiIiIyC6w0CaH4u3tjTVr1uDUqVMwGAzo1asXFi5ciBdffNHWoREREREREQHgpeNEREREREREsuLjvYiIiIiIiIhkxEKbiIiIiIiISEYstImIiIiIiIhkxEKbiIiIiIiISEYOOet4Q0MDzp8/D19fXygUCluHQ0Q2IoRAdXU1goOD0akT/25oDo6fRARw/GwPjp9EZMnY6ZCF9vnz5xESEmLrMIjITpw5c4bPUTcTx08i+i2On+bj+ElEjcwZOx2y0Pb19QVwI0E/P79W+xqNRhQWFiIhIQFKpdIa4dkMc3VOzLVlVVVVCAkJkcYEapsl4yfAf3/OyFXyBJhrazh+Wo7jp3Vwv7UP91v7WbLvLBk7HbLQbrxcx8/Pz6xC29vbG35+fk7/j465Oifm2jZewmc+S8ZPgP/+nJGr5AkwV3Nw/DQfx0/r4H5rH+639mvPvjNn7ORNOUREREREREQyYqFNREREREREJCMW2kREREREREQyYqFNRGQl586dw5NPPonAwEB4e3vjrrvuQmlpqbRcCAGtVovg4GB4eXlh5MiROHbsmMk6DAYD5syZg27dusHHxwcTJkzA2bNnrZ0KEREREbWChTYRkRVUVlZi+PDhUCqV2LFjB44fP45Vq1ahS5cuUp/MzEysXr0a69atQ0lJCTQaDeLj41FdXS31SUlJQUFBAfLz87Fv3z5cuXIFiYmJqK+vt0FWRERERNQch5x1nCzT54VPW11+asU4K0VC5LpWrlyJkJAQ5OTkSG19+vSR/l8IgaysLCxZsgSTJk0CAGzevBlqtRp5eXlITk7G5cuXkZ2djXfeeQdxcXEAgC1btiAkJAS7d+/GmDFjOiz+cO0uGOqbn2GTYwgRUcs4fhK5JhbaRERWsG3bNowZMwaPPvooioqKcNttt2HmzJn44x//CAAoKyuDXq9HQkKC9BmVSoXY2FgUFxcjOTkZpaWlMBqNJn2Cg4MRHh6O4uLiZgttg8EAg8Egva+qqgJw41EWRqOxzbgb+6g6iTb7OLrGPJwln5a4Sp4AczWnPxERdQwW2kREVvDTTz9h48aNSE1NxeLFi3HgwAE899xzUKlUmDp1KvR6PQBArVabfE6tVuP06dMAAL1eDw8PD3Tt2rVJn8bP3ywjIwNpaWlN2gsLC+Ht7W12/K9ENbS4bPv27WavxxHodDpbh2AVrpInwFybU1NT08GREBG5NhbaRERW0NDQgKioKKSnpwMAIiIicOzYMWzcuBFTp06V+ikUppcXCiGatN2stT6LFi1Camqq9L6qqgohISFISEiAn59fm3EbjUbodDq8dLATDA3Nb+OotuMuWbemxlzj4+OhVCptHU6HcZU8AebamsarW4iIqGOw0CYisoKgoCAMHDjQpO2OO+7Ahx9+CADQaDQAbpy1DgoKkvpUVFRIZ7k1Gg3q6upQWVlpcla7oqICMTExzW5XpVJBpVI1aVcqlRYVHoYGRYv3GDpbAWPpvnFUrpInwFxb6kdERB2Hs44TEVnB8OHDceLECZO2kydPonfv3gCA0NBQaDQak8s+6+rqUFRUJBXRkZGRUCqVJn3Ky8tx9OjRFgttIiIiIrI+ntEmIrKC559/HjExMUhPT0dSUhIOHDiATZs2YdOmTQBuXDKekpKC9PR0hIWFISwsDOnp6fD29sbkyZMBAP7+/pgxYwbmzZuHwMBABAQEYP78+Rg8eLA0CzkRERER2R4LbSIiKxg6dCgKCgqwaNEiLFu2DKGhocjKysKUKVOkPgsWLEBtbS1mzpyJyspKREdHo7CwEL6+vlKfNWvWwN3dHUlJSaitrcXo0aORm5sLNzc3W6RFRERERM1goU1EZCWJiYlITExscblCoYBWq4VWq22xj6enJ9auXYu1a9d2QIREREREJAfeo01EREREREQkIxbaRERERERERDJioU1EREREREQkIxbaRERERERERDJioU1EREREREQkIxbaRERERGTXzp07hyeffBKBgYHw9vbGXXfdhdLSUmm5EAJarRbBwcHw8vLCyJEjcezYMZN1GAwGzJkzB926dYOPjw8mTJiAs2fPWjsVInIRLLSJiIiIyG5VVlZi+PDhUCqV2LFjB44fP45Vq1ahS5cuUp/MzEysXr0a69atQ0lJCTQaDeLj41FdXS31SUlJQUFBAfLz87Fv3z5cuXIFiYmJqK+vt0FWROTs+BxtIiIiIrJbK1euREhICHJycqS2Pn36SP8vhEBWVhaWLFmCSZMmAQA2b94MtVqNvLw8JCcn4/Lly8jOzsY777yDuLg4AMCWLVsQEhKC3bt3Y8yYMVbNiYicH89oExEREZHd2rZtG6KiovDoo4+iR48eiIiIwFtvvSUtLysrg16vR0JCgtSmUqkQGxuL4uJiAEBpaSmMRqNJn+DgYISHh0t9iIjkxDPaTqDPC58CAFRuApn3AOHaXTDUK2Rdd0tOrRgny3aIiIiImvPTTz9h48aNSE1NxeLFi3HgwAE899xzUKlUmDp1KvR6PQBArVabfE6tVuP06dMAAL1eDw8PD3Tt2rVJn8bP38xgMMBgMEjvq6qqAABGoxFGo7HNuBv7qDqJNvvQfzXuE+4by3C/tZ8l+86S/ctCm4iIiIjsVkNDA6KiopCeng4AiIiIwLFjx7Bx40ZMnTpV6qdQmJ5kEEI0abtZa30yMjKQlpbWpL2wsBDe3t5mx/9KVEOLy7Zv3272elyNTqezdQgOifut/czZdzU1NWavj4U2EREREdmtoKAgDBw40KTtjjvuwIcffggA0Gg0AG6ctQ4KCpL6VFRUSGe5NRoN6urqUFlZaXJWu6KiAjExMc1ud9GiRUhNTZXeV1VVISQkBAkJCfDz82szbqPRCJ1Oh5cOdoKhofli/qiW94bfrHG/xcfHQ6lU2joch8H91n6W7LvGK1vMwUKbiIiIiOzW8OHDceLECZO2kydPonfv3gCA0NBQaDQa6HQ6REREAADq6upQVFSElStXAgAiIyOhVCqh0+mQlJQEACgvL8fRo0eRmZnZ7HZVKhVUKlWTdqVSaVEhY2hQtHhLHwuillm6n+kG7rf2M2ffWbJvWWgTERERkd16/vnnERMTg/T0dCQlJeHAgQPYtGkTNm3aBODGJeMpKSlIT09HWFgYwsLCkJ6eDm9vb0yePBkA4O/vjxkzZmDevHkIDAxEQEAA5s+fj8GDB0uzkBMRyYmFNhERERHZraFDh6KgoACLFi3CsmXLEBoaiqysLEyZMkXqs2DBAtTW1mLmzJmorKxEdHQ0CgsL4evrK/VZs2YN3N3dkZSUhNraWowePRq5ublwc3OzRVpE5OQ6pNA+d+4cFi5ciB07dqC2thb9+vVDdnY2IiMjAdyYeCItLQ2bNm2SBsP169dj0KBBHREOdSDOSk5EREQdLTExEYmJiS0uVygU0Gq10Gq1Lfbx9PTE2rVrsXbt2g6IkIjIlOzP0a6srMTw4cOhVCqxY8cOHD9+HKtWrUKXLl2kPpmZmVi9ejXWrVuHkpISaDQaxMfHo7q6Wu5wiIiIiIiIiKxK9jPaK1euREhICHJycqS2Pn36SP8vhEBWVhaWLFmCSZMmAQA2b94MtVqNvLw8JCcnyx0SERERERERkdXIfkZ727ZtiIqKwqOPPooePXogIiICb731lrS8rKwMer0eCQkJUptKpUJsbCyKi4vlDoeIiIiIiIjIqmQ/o/3TTz9h48aNSE1NxeLFi3HgwAE899xzUKlUmDp1KvR6PQBIzzVspFarcfr06WbXaTAYYDAYpPeNzy8zGo0wGo2txtO4vK1+jkzlJm78t5Ppf83V2r5pXHd7ddR+d4Xj2oi5tt2fiIiIiMieyF5oNzQ0ICoqCunp6QCAiIgIHDt2DBs3bsTUqVOlfgqF6fMEhRBN2hplZGQgLS2tSXthYSG8vb3Nikun05mbgsPJvMf0/StRDRZ9fvv27Wav21KtrVsOznxcb8Zcm6qpqengSIiIiIiILCd7oR0UFISBAweatN1xxx348MMPAQAajQYAoNfrERQUJPWpqKhocpa70aJFi5Camiq9r6qqQkhICBISEuDn59dqPEajETqdDvHx8U778PZw7S4AN85kvxLVgJcOdoKhofk/WjTnqHZMm+tur9bWfStc4bg2Yq4ta7y6hYiIiIjInsheaA8fPhwnTpwwaTt58iR69+4NAAgNDYVGo4FOp0NERAQAoK6uDkVFRVi5cmWz61SpVFCpVE3alUql2YWHJX0djaHetKg2NCiatLWmtf1iyXosXbccnPm43oy5Nt+PiIiIiMjeyF5oP//884iJiUF6ejqSkpJw4MABbNq0CZs2bQJw45LxlJQUpKenIywsDGFhYUhPT4e3tzcmT54sdzhEREREREREViV7oT106FAUFBRg0aJFWLZsGUJDQ5GVlYUpU6ZIfRYsWIDa2lrMnDkTlZWViI6ORmFhIXx9feUOh4iIiIiIiMiqZC+0ASAxMRGJiYktLlcoFNBqtdBqtR2xeSIiIiIiIiKbkf052kRERERERESujIU2ERERERERkYxYaBMRERERERHJiIU2ERERERERkYxYaBMRERERERHJiIU2ERERERERkYxYaBMRERERERHJiIU2ERERERERkYxYaBMRERERERHJiIU2ERERERERkYxYaBMRERERERHJiIU2ERERERERkYxYaBMRERERERHJiIU2ERERERERkYxYaBMRERERERHJiIU2ERERERERkYxYaBMR2UBGRgYUCgVSUlKkNiEEtFotgoOD4eXlhZEjR+LYsWMmnzMYDJgzZw66desGHx8fTJgwAWfPnrVy9ERERETUGhbaRERWVlJSgk2bNmHIkCEm7ZmZmVi9ejXWrVuHkpISaDQaxMfHo7q6WuqTkpKCgoIC5OfnY9++fbhy5QoSExNRX19v7TSIiIiIqAUstImIrOjKlSuYMmUK3nrrLXTt2lVqF0IgKysLS5YswaRJkxAeHo7NmzejpqYGeXl5AIDLly8jOzsbq1atQlxcHCIiIrBlyxYcOXIEu3fvtlVKRERERHQTFtpERFY0a9YsjBs3DnFxcSbtZWVl0Ov1SEhIkNpUKhViY2NRXFwMACgtLYXRaDTpExwcjPDwcKkPEREREdmeu60DICJyFfn5+Th06BBKSkqaLNPr9QAAtVpt0q5Wq3H69Gmpj4eHh8mZ8MY+jZ+/mcFggMFgkN5XVVUBAIxGI4xGY5sxN/ZRdRJt9nF0jXk4Sz4tcZU8AeZqTn8iIuoYLLSJiKzgzJkzmDt3LgoLC+Hp6dliP4VCYfJeCNGk7Wat9cnIyEBaWlqT9sLCQnh7e5sR+Q2vRDW0uGz79u1mr8cR6HQ6W4dgFa6SJ8Bcm1NTU9PBkRARuTYW2kREVlBaWoqKigpERkZKbfX19di7dy/WrVuHEydOALhx1jooKEjqU1FRIZ3l1mg0qKurQ2VlpclZ7YqKCsTExDS73UWLFiE1NVV6X1VVhZCQECQkJMDPz6/NuI1GI3Q6HV462AmGhuaL+aPaMW2uxxE05hofHw+lUmnrcDqMq+QJMNfWNF7dQkREHYOFNtlUnxc+bXX5qRXjrBQJUccaPXo0jhw5YtI2ffp0DBgwAAsXLkTfvn2h0Wig0+kQEREBAKirq0NRURFWrlwJAIiMjIRSqYROp0NSUhIAoLy8HEePHkVmZmaz21WpVFCpVE3alUqlRYWHoUEBQ33zhbazFTCW7htH5Sp5Asy1pX5ERNRxWGgTEVmBr68vwsPDTdp8fHwQGBgotaekpCA9PR1hYWEICwtDeno6vL29MXnyZACAv78/ZsyYgXnz5iEwMBABAQGYP38+Bg8e3GRyNSIiIiKyHRbaRER2YsGCBaitrcXMmTNRWVmJ6OhoFBYWwtfXV+qzZs0auLu7IykpCbW1tRg9ejRyc3Ph5uZmw8iJiIiI6LdYaBMR2ciePXtM3isUCmi1Wmi12hY/4+npibVr12Lt2rUdGxwRERERtRufo01EREREDiEjIwMKhQIpKSlSmxACWq0WwcHB8PLywsiRI3Hs2DGTzxkMBsyZMwfdunWDj48PJkyYgLNnz1o5eiJyJSy0iYiIiMjulZSUYNOmTRgyZIhJe2ZmJlavXo1169ahpKQEGo0G8fHxqK6ulvqkpKSgoKAA+fn52LdvH65cuYLExETU19dbOw0ichEstImIiIjIrl25cgVTpkzBW2+9ZfJ4QyEEsrKysGTJEkyaNAnh4eHYvHkzampqkJeXBwC4fPkysrOzsWrVKsTFxSEiIgJbtmzBkSNHsHv3blulREROjoU2EREREdm1WbNmYdy4cU2esFBWVga9Xo+EhASpTaVSITY2FsXFxQCA0tJSGI1Gkz7BwcEIDw+X+hARyY2ToRERERGR3crPz8ehQ4dQUlLSZJlerwcAqNVqk3a1Wo3Tp09LfTw8PEzOhDf2afx8cwwGAwwGg/S+qqoKAGA0GmE0GtuMu7GPqpNosw/9V+M+4b6xDPdb+1my7yzZvyy0iYiIiMgunTlzBnPnzkVhYSE8PT1b7KdQKEzeCyGatN2srT4ZGRlIS0tr0l5YWAhvb+82Iv+vV6IaWly2fft2s9fjanQ6na1DcEjcb+1nzr6rqakxe30stImIiIjILpWWlqKiogKRkZFSW319Pfbu3Yt169bhxIkTAG6ctQ4KCpL6VFRUSGe5NRoN6urqUFlZaXJWu6KiAjExMS1ue9GiRUhNTZXeV1VVISQkBAkJCfDz82szdqPRCJ1Oh5cOdoKhofmC/qh2TJvrcTWN+y0+Ph5KpdLW4TgM7rf2s2TfNV7ZYo4OL7QzMjKwePFizJ07F1lZWQBu/AUxLS0NmzZtQmVlJaKjo7F+/XoMGjSoo8OhZvR54VNbh0BERETUxOjRo3HkyBGTtunTp2PAgAFYuHAh+vbtC41GA51Oh4iICABAXV0dioqKsHLlSgBAZGQklEoldDodkpKSAADl5eU4evQoMjMzW9y2SqWCSqVq0q5UKi0qZAwNChjqmy+0WRC1zNL9TDdwv7WfOfvOkn3boYV2W49hyM3NRb9+/bB8+XLEx8fjxIkT8PX17ciQiIiIiMhB+Pr6Ijw83KTNx8cHgYGBUntKSgrS09MRFhaGsLAwpKenw9vbG5MnTwYA+Pv7Y8aMGZg3bx4CAwMREBCA+fPnY/DgwU0mVyMikkuHzTp+K49hICIiIiIyx4IFC5CSkoKZM2ciKioK586dQ2FhocnJmzVr1mDixIlISkrC8OHD4e3tjY8//hhubm42jJyInFmHFdq38hgGIiIiIqLm7NmzR7odEbgxEZpWq0V5eTmuXbuGoqKiJmfBPT09sXbtWly8eBE1NTX4+OOPERISYuXIiciVdMil47f6GIab3crjFVxhqnuV243HRjQ+PqK1x0hYW1v7vTF2Sz/vCse1EXNtuz8RERERkT2RvdDuiMcwyPF4BWee6j7zHtP3rT1GwtraemzFzbFb+nlnPq43Y65NWfKIBSIiIiIia5G90JbjMQw3u5XHK7jCVPfh2l0AbpzJfiWqodXHSFhbW4+taIzd0s+7wnFtxFxbZskjFoiIiIiIrEX2QluOxzDcTI7HKzjyVPdtP37LtKhu7TES1tbWPm8rTnOm2HfU42op5tp8PyIiIiIieyN7oS3HYxiIiIiIiIiIHFWHPke7JQsWLEBtbS1mzpyJyspKREdHN3kMAxHQ8tl8lZto8/5uIiIiIiIiW7BKob1nzx6T942PYdBqtdbYPBEREREREZHVdNhztImIiIiIiIhcEQttIiIiIiIiIhmx0CYiIiIiIiKSEQttIiIiIiIiIhmx0CYiIiIiIiKSEQttIiIiIiIiIhmx0CYiIiIiIiKSEQttIiIiIiIiIhmx0CYiIiIiIiKSkbutAyDn1ueFT20dAhERERERkVXxjDYRERERERGRjFhoExEREREREcmIhTYRERERERGRjFhoExEREREREcmIhTYRERERERGRjFhoExEREREREcnIZR7vFa7dBUO9osXlp1aMs2I0RERERERE5Kx4RpuIiIiIiIhIRi5zRtue9XnhU1uHQERERERERDLhGW0iIiIiIiIiGfGMNjmttq4U4H35RERERETUEXhGm4iIiIiIiEhGLLSJiIiIiIiIZMRCm4iIiIiIiEhGLLSJiIiIiIiIZMRCm4jICjIyMjB06FD4+vqiR48emDhxIk6cOGHSRwgBrVaL4OBgeHl5YeTIkTh27JhJH4PBgDlz5qBbt27w8fHBhAkTcPbsWWumQkRERERtYKFNRGQFRUVFmDVrFvbv3w+dTofr168jISEBV69elfpkZmZi9erVWLduHUpKSqDRaBAfH4/q6mqpT0pKCgoKCpCfn499+/bhypUrSExMRH19vS3SIiIiIqJm8PFeRERWsHPnTpP3OTk56NGjB0pLS3H//fdDCIGsrCwsWbIEkyZNAgBs3rwZarUaeXl5SE5OxuXLl5GdnY133nkHcXFxAIAtW7YgJCQEu3fvxpgxY6ye163iY/iIiIjIGbHQJiKygcuXLwMAAgICAABlZWXQ6/VISEiQ+qhUKsTGxqK4uBjJyckoLS2F0Wg06RMcHIzw8HAUFxc3W2gbDAYYDAbpfVVVFQDAaDTCaDS2GWdjH1Un0Waf9lC5tbzeW123pRq3Zc1t2oKr5AkwV3P6ExFRx2ChTURkZUIIpKamYsSIEQgPDwcA6PV6AIBarTbpq1arcfr0aamPh4cHunbt2qRP4+dvlpGRgbS0tCbthYWF8Pb2NjvmV6IaWly2fft2s9dzs8x7Wl9+K+tuL51OZ/Vt2oKr5Akw1+bU1NR0cCRERK6NhTYRkZXNnj0b3333Hfbt29dkmUKhMHkvhGjSdrPW+ixatAipqanS+6qqKoSEhCAhIQF+fn5txmo0GqHT6fDSwU4wNDS/jaPa9l+yHq7d1eryW1m3pRpzjY+Ph1KptNp2rc1V8gSYa2sar25xBBkZGdi6dSv+/e9/w8vLCzExMVi5ciX69+8v9RFCIC0tDZs2bUJlZSWio6Oxfv16DBo0SOpjMBgwf/58vPfee6itrcXo0aOxYcMG9OzZ0xZpEZGTY6FNRGRFc+bMwbZt27B3716TL3cajQbAjbPWQUFBUntFRYV0lluj0aCurg6VlZUmZ7UrKioQExPT7PZUKhVUKlWTdqVSaVHhYWhQwFDffKF9KwVMS+uUY93tZem+cVSukifAXFvq5ygaJ5McOnQorl+/jiVLliAhIQHHjx+Hj48PgP9OJpmbm4t+/fph+fLliI+Px4kTJ+Dr6wvgxmSSH3/8MfLz8xEYGIh58+YhMTERpaWlcHNzs2WKROSEOOs4EZEVCCEwe/ZsbN26FZ9//jlCQ0NNloeGhkKj0Zhc9llXV4eioiKpiI6MjIRSqTTpU15ejqNHj7ZYaBMRObqdO3fi6aefxqBBg3DnnXciJycHP//8M0pLSwGgyWSS4eHh2Lx5M2pqapCXlwcA0mSSq1atQlxcHCIiIrBlyxYcOXIEu3fvtmV6ROSkWGgTEVnBrFmzsGXLFuTl5cHX1xd6vR56vR61tbUAblwynpKSgvT0dBQUFODo0aN4+umn4e3tjcmTJwMA/P39MWPGDMybNw+fffYZvvnmGzz55JMYPHiwNAs5EZGzs3QySQBtTiZJRCQ32S8dl+s+GiIiZ7Jx40YAwMiRI03ac3Jy8PTTTwMAFixYgNraWsycOVMaGwsLC6XLHgFgzZo1cHd3R1JSknSPYW5uLi97JCKXYM3JJO39qQ3OypWeFiAn7rf2s2TfWbJ/ZS+05bqPhojImQjR+mOsgBtntbVaLbRabYt9PD09sXbtWqxdu1bG6IiIHIM1J5O096c2ODtXelqAnLjf2s+cfWfJExtkL7R37txp8j4nJwc9evRAaWkp7r///ib30QDA5s2boVarkZeXh+TkZLlDIicWrt3V5mRKLenzwqetLj+1Yly71ktERETys/Zkkvb+1AZn5UpPC5AT91v7WbLvLHliQ4fPOm7pfTTNFdq3cumOOZft/LafLajc2j7TZdZ6/v8c28rVGVgjV3u59MaVLgWyNFdX2CdERK5OCIE5c+agoKAAe/bsaXUyyYiICAD/nUxy5cqVAEwnk0xKSgLw38kkMzMzm92uvT+1wdm50tMC5MT91n7m7DtL9m2HFtrtvY/mZnJcutPaZTuAbS/dybxH3vW1lasz6chc7e1yLle6FMjcXC25fIeIiBzTrFmzkJeXh48++kiaTBK4MUGkl5eXyWSSYWFhCAsLQ3p6eouTSQYGBiIgIADz58/nZJJE1GE6tNCW6z6aW7l0x5zLdgDbXroTrt0ly3pUnQReiWpoM1dnYI1c7eVyLle6FMjSXC25fIeIiBwTJ5MkIkfUYYX2rdxHczM5Lt1p7bKdxnXZSnvvMW5xfW3k6kw6Mld7K2pd6VIgc3N1lf1BROTKOJkkETki2Z+jLYTA7NmzsXXrVnz++eet3kfTqPE+mpYmoyAiIiIiIiJyFLKf0ZbjPhoiIiIiIiIiRyV7oS3XfTREREREREREjkj2Qluu+2iIiIiIiIiIHJHs92gTERERERERuTIW2kREREREREQy6tDnaBM5sj4vfNrq8lMrxlkpEiIiIiIiciQ8o01EREREREQkI57RJuogrZ0R59lwIiIiIiLnxTPaRERERERERDJioU1EREREREQkI146/v+71YmveJmw62nr3wwREREREbkmntEmIiIiIiIikhHPaBMRERERuRg+xpSoY/GMNhEREREREZGMWGgTERERERERyYiFNhEREREREZGMWGgTERERERERyYiFNhEREREREZGMWGgTERERERERyYiP9zJTW49AICIiIiIiIgJ4RpuIiIiIiIhIVjyjTWSHfnsFhcpNIPMeIFy7C4Z6BQDg1IpxtgqNiIiIiIjawEKbiIiIiIjsym9PMNyMJxzIEbDQJnJAbc0ZwF9ARERERES2w3u0iYiIiIiIiGTEM9pENsBZ7ImIiIiInBfPaBMRERERERHJiIU2ERERERERkYxYaBMRERERERHJiIU2ERERERERkYw4GRoRNdHaZG18dBgRERERUet4RpuIiIiIiIhIRjyjTeSE2np8GM9KExERERF1HBbaRETksn77RymVm0DmPUC4dhcM9QoA/KMUERERtQ8LbSto6+wiEREREREROQ/eo01EREREREQkI5sW2hs2bEBoaCg8PT0RGRmJL7/80pbhEBE5BI6dJIdw7S70eeHTZl9EzorjJxFZi80uHX///feRkpKCDRs2YPjw4fi///s/jB07FsePH0evXr1sFRYRkV3j2Ok8OGkhkXVx/CQia7LZGe3Vq1djxowZ+MMf/oA77rgDWVlZCAkJwcaNG20VEhGR3ePYSUTUPhw/iciabHJGu66uDqWlpXjhhRdM2hMSElBcXGyLkIjITLd6Fq61zzfO+kzN49hJjoJn6zsGx8/24/hJRNZmk0L7woULqK+vh1qtNmlXq9XQ6/VN+hsMBhgMBun95cuXAQC//vorjEZjq9syGo2oqamBu7ET6hsUMkRvv9wbBGpqGpirk+mIXC9evNj6Nq9ftcm6G3O9ePEilEplm9uqrq4GAAghLAvSQVk6dgK3Nn4C5o2hbR3z1rT1b+1W1m3p9pv7WevI7dsq944+poDtj2ujxlzNHVPsHcfP9nPG8fNW2cvP6c3sfb9FZ3zW6vKvF422UiSmGvfbXUu2wtDCfrNVbID97jfAst8VFo2dwgbOnTsnAIji4mKT9uXLl4v+/fs36b906VIBgC+++OKr2deZM2esNXzZlKVjpxAcP/nii6/WXxw/OX7yxRdflr/MGTttcka7W7ducHNza/IXxIqKiiZ/aQSARYsWITU1VXrf0NCAX3/9FYGBgVAoWj/DV1VVhZCQEJw5cwZ+fn7yJGCnmKtzYq4tE0KguroawcHBVojO9iwdO4FbGz8B/vtzRq6SJ8BcW8Px8waOn/aH+619uN/az5J9Z8nYaZNC28PDA5GRkdDpdHjooYekdp1OhwcffLBJf5VKBZVKZdLWpUsXi7bp5+fnMv/omKtzYq7N8/f37+Bo7IelYycgz/gJ8N+fM3KVPAHm2hKOnxw/7Rn3W/twv7WfufvO3LHTZo/3Sk1NxVNPPYWoqCgMGzYMmzZtws8//4xnn33WViEREdk9jp1ERO3D8ZOIrMlmhfZjjz2GixcvYtmyZSgvL0d4eDi2b9+O3r172yokIiK7x7GTiKh9OH4SkTXZrNAGgJkzZ2LmzJkdug2VSoWlS5c2ufTHGTFX58Rc6WbWGDsbudIxcZVcXSVPgLlSUxw/7R/3W/twv7VfR+07hRAu8lwHIiIiIiIiIivoZOsAiIiIiIiIiJwJC20iIiIiIiIiGbHQJiIiIiIiIpIRC20iIiIiIiIiGTl1ob1hwwaEhobC09MTkZGR+PLLL20d0i3LyMjA0KFD4evrix49emDixIk4ceKESR8hBLRaLYKDg+Hl5YWRI0fi2LFjNopYPhkZGVAoFEhJSZHanCnXc+fO4cknn0RgYCC8vb1x1113obS0VFruLLlev34dL774IkJDQ+Hl5YW+ffti2bJlaGhokPo4S66OzhnH0JuZM6Y6q+bGVGfS1pjqDMwZT8k2XGH8lJsrj8dycvaxXU4d/ntCOKn8/HyhVCrFW2+9JY4fPy7mzp0rfHx8xOnTp20d2i0ZM2aMyMnJEUePHhWHDx8W48aNE7169RJXrlyR+qxYsUL4+vqKDz/8UBw5ckQ89thjIigoSFRVVdkw8ltz4MAB0adPHzFkyBAxd+5cqd1Zcv31119F7969xdNPPy2+/vprUVZWJnbv3i1+/PFHqY+z5Lp8+XIRGBgoPvnkE1FWViY++OAD0blzZ5GVlSX1cZZcHZmzjqE3M2dMdUYtjanOwpwx1RmYM56S9bnK+Ck3Vx2P5eTsY7ucrPF7wmkL7XvuuUc8++yzJm0DBgwQL7zwgo0i6hgVFRUCgCgqKhJCCNHQ0CA0Go1YsWKF1OfatWvC399fvPnmm7YK85ZUV1eLsLAwodPpRGxsrDRwOFOuCxcuFCNGjGhxuTPlOm7cOPHMM8+YtE2aNEk8+eSTQgjnytWRucoYerObx1Rn1NKY6kzaGlOdRVvjKdmGq46fcnOF8VhOrjC2y8kavyec8tLxuro6lJaWIiEhwaQ9ISEBxcXFNoqqY1y+fBkAEBAQAAAoKyuDXq83yV2lUiE2NtZhc581axbGjRuHuLg4k3ZnynXbtm2IiorCo48+ih49eiAiIgJvvfWWtNyZch0xYgQ+++wznDx5EgDw7bffYt++fXjggQcAOFeujsqVxtCb3TymOqOWxlRn0taY6izaGk/J+lx5/JSbK4zHcnKFsV1O1vg94S7r2uzEhQsXUF9fD7VabdKuVquh1+ttFJX8hBBITU3FiBEjEB4eDgBSfs3lfvr0aavHeKvy8/Nx6NAhlJSUNFnmTLn+9NNP2LhxI1JTU7F48WIcOHAAzz33HFQqFaZOnepUuS5cuBCXL1/GgAED4Obmhvr6erz66qt44oknADjXcXVUrjKG3qy5MdXZtDamOpO2xlRn0dZ4StbnquOn3FxhPJaTq4ztcrLG7wmnLLQbKRQKk/dCiCZtjmz27Nn47rvvsG/fvibLnCH3M2fOYO7cuSgsLISnp2eL/Zwh14aGBkRFRSE9PR0AEBERgWPHjmHjxo0mP+zOkOv777+PLVu2IC8vD4MGDcLhw4eRkpKC4OBgTJs2TernDLk6Olc7Bq2Nqc7A3DHVGZg7pjo6c8dTsj5XGz/l5uzjsZxcaWyXkzV+TzjlpePdunWDm5tbk78cVlRUNPkLo6OaM2cOtm3bhi+++AI9e/aU2jUaDQA4Re6lpaWoqKhAZGQk3N3d4e7ujqKiIrzxxhtwd3eX8nGGXIOCgjBw4ECTtjvuuAM///wzAOc6rn/+85/xwgsv4PHHH8fgwYPx1FNP4fnnn0dGRgYA58rVUbnCGHqzlsZUZ9LWmFpfX2/rEGXT1pjqLNoaT8n6XHH8lJsrjMdycqWxXU7W+D3hlIW2h4cHIiMjodPpTNp1Oh1iYmJsFJU8hBCYPXs2tm7dis8//xyhoaEmy0NDQ6HRaExyr6urQ1FRkcPlPnr0aBw5cgSHDx+WXlFRUZgyZQoOHz6Mvn37Ok2uw4cPb/IIi5MnT6J3794AnOu41tTUoFMn06HHzc1NehyNM+XqqJx5DL1ZW2OqM2lrTHVzc7N1iLJpa0x1Fm2Np2R9rjR+ys2VxmM5udLYLier/J7o0KnWbKjx0QrZ2dni+PHjIiUlRfj4+IhTp07ZOrRb8r//+7/C399f7NmzR5SXl0uvmpoaqc+KFSuEv7+/2Lp1qzhy5Ih44oknnObRSDfPougsuR44cEC4u7uLV199Vfzwww/i3XffFd7e3mLLli1SH2fJddq0aeK2226THkezdetW0a1bN7FgwQKpj7Pk6sicdQy9mTljqjNz1plpzRlTnYE54ylZn6uMn3Jz9fFYTs46tsvJGr8nnLbQFkKI9evXi969ewsPDw9x9913O8XjAQA0+8rJyZH6NDQ0iKVLlwqNRiNUKpW4//77xZEjR2wXtIxuHjicKdePP/5YhIeHC5VKJQYMGCA2bdpkstxZcq2qqhJz584VvXr1Ep6enqJv375iyZIlwmAwSH2cJVdH54xj6M3MGVOdmTN/GWtrTHUG5oynZBuuMH7KzdXHYzk589gup47+PaEQQgj5zo8TERERERERuTanvEebiIiIiIiIyFZYaBMRERERERHJiIU2ERERERERkYxYaBMRERERERHJiIU2ERERERERkYxYaBMRERERERHJiIU2ERERERERkYxYaBMRERERERHJiIU2ERERERERkYxYaJNN5ebmQqFQNPuaP3++rcMjIiIiIiKymLutAyACgJycHAwYMMCkLTg42EbREBERERERtR8LbbIL4eHhiIqKkm19RqMRCoUC7u78J05ERERERNbFS8fJbv3444+YPn06wsLC4O3tjdtuuw3jx4/HkSNHTPrt2bMHCoUC77zzDubNm4fbbrsNKpUKP/74IwBg9+7dGD16NPz8/ODt7Y3hw4fjs88+s0VKRERERETkAlhok12or6/H9evXTV7nz59HYGAgVqxYgZ07d2L9+vVwd3dH9P/X3v3HVlnffx9/Hejpgda2UjrO6QnV1VnnjxaGZautTtDSw5iVGbbgxDl0LMEBnU0haMcWD5vfFuvXgmuVzY0ISki3ZHZzEV0P90YZaVhKlVmqMS5jKFtrp1Ta0np6aD/3H949t4e2wKFXe87B5yNp4vW53udcrw+4pS+v8yMvT2+//faI5ygvL9e7776rX/ziF/rjH/+oWbNmaffu3fJ4PEpOTtauXbv029/+VqmpqVq8eDFlGwAAAMCEsBljTKRD4LNr586deuCBB0Y9FwgEQl76PTg4qKGhId1www0qLi5WdXW1pE/uaN9222269dZb1djYGJzv6+tTRkaGbr75Zr300kvB9aGhId14441yOBz629/+NkE7AwAAAPBZxRtYERWef/55XXfddSPWKyoqtHv3bv3jH/9QIBAIrr/11lsjZr/5zW+GHDc1NenkyZNauXKlzpw5E3Lua1/7mqqqqnT69GklJiZatAsAAAAAoGgjSlx33XUjPgzthz/8oZ5++mk9/PDDWrBggWbMmKEpU6bo+9//vvr7+0c8R3p6esjx+++/L0n61re+NeZ1T548SdEGAAAAYCmKNqLW7t279d3vflcVFRUh6x988IEuv/zyEfM2my3kOC0tTZJUU1Ojm266adRrOJ1Oa8ICAAAAwP9D0UbUstlscjgcIWsvv/yy/v3vf+vqq68+7+NvvvlmXX755XrzzTe1bt26iYoJAAAAACEo2ohaxcXF2rlzp6699lrNmTNHLS0teuKJJzR79uwLevxll12mmpoarVy5UidPntS3vvUtzZo1S//973/197//Xf/973+1ffv2Cd4FAAAAgM8aijai1lNPPSW73a7Kykr19vbqxhtv1Isvvqgf//jHF/wc3/nOd3TFFVeoqqpKq1evVk9Pj2bNmqUvfelLuv/++ycuPAAAAIDPLL7eCwAAAAAAC02JdAAAAAAAAC4lFG0AAAAAACxE0QYAAAAAwEIUbQAAAAAALETRBgAAAADAQhRtAAAAAAAsFJPfoz00NKT//Oc/SkpKks1mi3QcABFijFFPT4/cbremTOG/GwIAACA6xGTR/s9//qOMjIxIxwAQJd577z3Nnj070jEAAAAASTFatJOSkiR98st1cnLyeecDgYAaGhrk8Xhkt9snOp5lyD25YjF3LGaWrMvd3d2tjIyM4P8nAAAAANEgJov28MvFk5OTL7hoJyQkKDk5OebKCLknTyzmjsXMkvW5eQsJAAAAoklYb2r0er2y2WwhPy6XK3jeGCOv1yu3263p06dr4cKFamtrC3kOv9+vkpISpaWlKTExUUuXLtWJEyes2Q0AAAAAABEW9qcH3XDDDWpvbw/+tLa2Bs9VVVWpurpatbW1am5ulsvlUlFRkXp6eoIzpaWlqq+vV11dnQ4ePKje3l4VFxdrcHDQmh0BAAAAABBBYb90PC4uLuQu9jBjjLZt26ZNmzZp2bJlkqRdu3bJ6XRqz549Wr16tU6dOqUdO3bohRde0KJFiyRJu3fvVkZGhvbt26fFixePczsAAAAAAERW2EX7nXfekdvtlsPhUF5enioqKnTVVVfp2LFj6ujokMfjCc46HA4tWLBATU1NWr16tVpaWhQIBEJm3G63srOz1dTUNGbR9vv98vv9wePu7m5Jn7zPMxAInDfz8MyFzEYTck+uWMwdi5kl63LH2r4BAADw2RBW0c7Ly9Pzzz+va665Ru+//74ee+wxFRQUqK2tTR0dHZIkp9MZ8hin06njx49Lkjo6OhQfH68ZM2aMmBl+/GgqKyu1efPmEesNDQ1KSEi44Pw+n++CZ6MJuSdXLOaOxczS+HP39fVZlAQAAACwTlhFe8mSJcF/zsnJUX5+vr7whS9o165duummmySN/PRfY8x5PxH4fDPl5eUqKysLHg9/pY/H47ngTx33+Xz6yeEp8g+Nfp2j3uh72fpw7qKiopj7RGlyT45YzCxZl3v41S0AAABANBnX13slJiYqJydH77zzju666y5Jn9y1Tk9PD850dnYG73K7XC4NDAyoq6sr5K52Z2enCgoKxryOw+GQw+EYsW6328P6Jd0/ZJN/cPSiHc0lJdx9RgtyT55YzCyNP3cs7hkAAACXvrA/dfzT/H6/3nrrLaWnpyszM1MulyvkpaADAwNqbGwMlujc3FzZ7faQmfb2dh09evScRRsAAAAAgFgR1h3tDRs26M4779QVV1yhzs5OPfbYY+ru7tbKlStls9lUWlqqiooKZWVlKSsrSxUVFUpISNCKFSskSSkpKVq1apXWr1+vmTNnKjU1VRs2bFBOTk7wU8gBAAAAAIhlYRXtEydO6J577tEHH3ygz33uc7rpppt06NAhXXnllZKkjRs3qr+/X2vWrFFXV5fy8vLU0NCgpKSk4HNs3bpVcXFxWr58ufr7+1VYWKidO3dq6tSp1u4MAAAAAIAICKto19XVnfO8zWaT1+uV1+sdc2batGmqqalRTU1NOJcGAAAAACAmjOs92gAAAAAAIBRFGwAAAAAAC1G0AQAAAACwEEUbAAAAAAALUbQBAAAAALAQRRsAAAAAAAtRtAEAAAAAsBBFGwAAAAAAC1G0AQAAAACwEEUbAAAAAAALUbQBAAAAALAQRRsAAAAAAAtRtAEAAAAAsBBFGwAAAAAAC1G0AQAAAACwEEUbAAAAAAALUbQBAAAAALAQRRsAAAAAAAtRtAEAAAAAsBBFGwAAAAAAC1G0AQAAAACw0LiKdmVlpWw2m0pLS4Nrxhh5vV653W5Nnz5dCxcuVFtbW8jj/H6/SkpKlJaWpsTERC1dulQnTpwYTxQAAAAAAKLCRRft5uZmPfvss5ozZ07IelVVlaqrq1VbW6vm5ma5XC4VFRWpp6cnOFNaWqr6+nrV1dXp4MGD6u3tVXFxsQYHBy9+JwAAAAAARIGLKtq9vb2699579atf/UozZswIrhtjtG3bNm3atEnLli1Tdna2du3apb6+Pu3Zs0eSdOrUKe3YsUNPPvmkFi1apHnz5mn37t1qbW3Vvn37rNkVAAAAAAARclFFe+3atbrjjju0aNGikPVjx46po6NDHo8nuOZwOLRgwQI1NTVJklpaWhQIBEJm3G63srOzgzMAAAAAAMSquHAfUFdXp9dee03Nzc0jznV0dEiSnE5nyLrT6dTx48eDM/Hx8SF3wodnhh9/Nr/fL7/fHzzu7u6WJAUCAQUCgfNmHp5xTDHnnYkmw5miMdu5kHvyxGJmybrcsbZvAAAAfDaEVbTfe+89PfTQQ2poaNC0adPGnLPZbCHHxpgRa2c710xlZaU2b948Yr2hoUEJCQkXkPwTP5s/NOa5vXv3XvDzTDafzxfpCBeF3JMnFjNL48/d19dnURIAAADAOmEV7ZaWFnV2dio3Nze4Njg4qAMHDqi2tlZvv/22pE/uWqenpwdnOjs7g3e5XS6XBgYG1NXVFXJXu7OzUwUFBaNet7y8XGVlZcHj7u5uZWRkyOPxKDk5+by5A4GAfD6ffnJ4ivxDo5f5o97F532eyTacu6ioSHa7PdJxLhi5J08sZpasyz386hYAAAAgmoRVtAsLC9Xa2hqy9sADD+jaa6/Vww8/rKuuukoul0s+n0/z5s2TJA0MDKixsVGPP/64JCk3N1d2u10+n0/Lly+XJLW3t+vo0aOqqqoa9boOh0MOh2PEut1uD+uXdP+QTf7B0Yt2NJeUcPcZLcg9eWIxszT+3LG4ZwAAAFz6wiraSUlJys7ODllLTEzUzJkzg+ulpaWqqKhQVlaWsrKyVFFRoYSEBK1YsUKSlJKSolWrVmn9+vWaOXOmUlNTtWHDBuXk5Iz4cDUAAAAAAGJN2B+Gdj4bN25Uf3+/1qxZo66uLuXl5amhoUFJSUnBma1btyouLk7Lly9Xf3+/CgsLtXPnTk2dOtXqOAAAAAAATKpxF+39+/eHHNtsNnm9Xnm93jEfM23aNNXU1Kimpma8lwcAAAAAIKpc1PdoAwAAAACA0VG0AQAAAACwEEUbAAAAAAALUbQBAAAAALAQRRsAAAAAAAtRtAEAAAAAsBBFGwAAAAAAC1G0AQAAAACwEEUbAAAAAAALUbQBAAAAALAQRRsAAAAAAAtRtAEAAAAAsBBFGwAAAAAAC1G0AQAAAACwEEUbAAAAAAALUbQBAAAAALAQRRsAAAAAAAtRtAEAAAAAsBBFGwAAAAAAC1G0AQAAAACwEEUbAAAAAAALUbQBAAAAALBQWEV7+/btmjNnjpKTk5WcnKz8/Hy98sorwfPGGHm9Xrndbk2fPl0LFy5UW1tbyHP4/X6VlJQoLS1NiYmJWrp0qU6cOGHNbgAAAAAAiLCwivbs2bO1ZcsWHT58WIcPH9btt9+ub3zjG8EyXVVVperqatXW1qq5uVkul0tFRUXq6ekJPkdpaanq6+tVV1engwcPqre3V8XFxRocHLR2ZwAAAAAAREBYRfvOO+/U17/+dV1zzTW65ppr9D//8z+67LLLdOjQIRljtG3bNm3atEnLli1Tdna2du3apb6+Pu3Zs0eSdOrUKe3YsUNPPvmkFi1apHnz5mn37t1qbW3Vvn37JmSDAAAAAABMpot+j/bg4KDq6up0+vRp5efn69ixY+ro6JDH4wnOOBwOLViwQE1NTZKklpYWBQKBkBm3263s7OzgDAAAAAAAsSwu3Ae0trYqPz9fH3/8sS677DLV19fr+uuvDxZlp9MZMu90OnX8+HFJUkdHh+Lj4zVjxowRMx0dHWNe0+/3y+/3B4+7u7slSYFAQIFA4LyZh2ccU8x5Z6LJcKZozHYu5J48sZhZsi53rO0bAAAAnw1hF+0vfvGLOnLkiD766CP97ne/08qVK9XY2Bg8b7PZQuaNMSPWzna+mcrKSm3evHnEekNDgxISEi44+8/mD415bu/evRf8PJPN5/NFOsJFIffkicXM0vhz9/X1WZQEAAAAsE7YRTs+Pl5XX321JGn+/Plqbm7WU089pYcffljSJ3et09PTg/OdnZ3Bu9wul0sDAwPq6uoKuavd2dmpgoKCMa9ZXl6usrKy4HF3d7cyMjLk8XiUnJx83syBQEA+n08/OTxF/qHRC/1R7+LzPs9kG85dVFQku90e6TgXjNyTJxYzS9blHn51CwAAABBNwi7aZzPGyO/3KzMzUy6XSz6fT/PmzZMkDQwMqLGxUY8//rgkKTc3V3a7XT6fT8uXL5cktbe36+jRo6qqqhrzGg6HQw6HY8S63W4P65d0/5BN/sHRi3Y0l5Rw9xktyD15YjGzNP7csbhnAAAAXPrCKto/+tGPtGTJEmVkZKinp0d1dXXav3+/Xn31VdlsNpWWlqqiokJZWVnKyspSRUWFEhIStGLFCklSSkqKVq1apfXr12vmzJlKTU3Vhg0blJOTo0WLFk3IBgEAAAAAmExhFe33339f9913n9rb25WSkqI5c+bo1VdfVVFRkSRp48aN6u/v15o1a9TV1aW8vDw1NDQoKSkp+Bxbt25VXFycli9frv7+fhUWFmrnzp2aOnWqtTsDAAAAACACwiraO3bsOOd5m80mr9crr9c75sy0adNUU1OjmpqacC4NAAAAAEBMuOjv0QYAAAAAACNRtAEAAAAAsBBFGwAAAAAAC1G0AQAAAACwEEUbAAAAAAALUbQBAAAAALAQRRsAAAAAAAtRtAEAAAAAsBBFGwAAAAAAC1G0AQAAAACwEEUbAAAAAAALUbQBAAAAALAQRRsAAAAAAAtRtAEAAAAAsBBFGwAAAAAAC1G0AQAAAACwEEUbAAAAAAALUbQBAAAAALAQRRsAAAAAAAtRtAEAAAAAsBBFGwAAAAAAC1G0AQAAAACwUFhFu7KyUl/+8peVlJSkWbNm6a677tLbb78dMmOMkdfrldvt1vTp07Vw4UK1tbWFzPj9fpWUlCgtLU2JiYlaunSpTpw4Mf7dAAAAAAAQYWEV7cbGRq1du1aHDh2Sz+fTmTNn5PF4dPr06eBMVVWVqqurVVtbq+bmZrlcLhUVFamnpyc4U1paqvr6etXV1engwYPq7e1VcXGxBgcHrdsZAAAAAAAREBfO8Kuvvhpy/Nxzz2nWrFlqaWnRrbfeKmOMtm3bpk2bNmnZsmWSpF27dsnpdGrPnj1avXq1Tp06pR07duiFF17QokWLJEm7d+9WRkaG9u3bp8WLF1u0NQAAAAAAJt+43qN96tQpSVJqaqok6dixY+ro6JDH4wnOOBwOLViwQE1NTZKklpYWBQKBkBm3263s7OzgDAAAAAAAsSqsO9qfZoxRWVmZbrnlFmVnZ0uSOjo6JElOpzNk1ul06vjx48GZ+Ph4zZgxY8TM8OPP5vf75ff7g8fd3d2SpEAgoEAgcN6swzOOKea8M9FkOFM0ZjsXck+eWMwsWZc71vYNAACAz4aLLtrr1q3TG2+8oYMHD444Z7PZQo6NMSPWznaumcrKSm3evHnEekNDgxISEi4488/mD415bu/evRf8PJPN5/NFOsJFIffkicXM0vhz9/X1WZQEAAAAsM5FFe2SkhK99NJLOnDggGbPnh1cd7lckj65a52enh5c7+zsDN7ldrlcGhgYUFdXV8hd7c7OThUUFIx6vfLycpWVlQWPu7u7lZGRIY/Ho+Tk5PPmDQQC8vl8+snhKfIPjV7mj3qj773hw7mLiopkt9sjHeeCkXvyxGJmybrcw69uAQAAAKJJWEXbGKOSkhLV19dr//79yszMDDmfmZkpl8sln8+nefPmSZIGBgbU2Nioxx9/XJKUm5sru90un8+n5cuXS5La29t19OhRVVVVjXpdh8Mhh8MxYt1ut4f1S7p/yCb/4OhFO5pLSrj7jBbknjyxmFkaf+5Y3DMAAAAufWEV7bVr12rPnj36wx/+oKSkpOB7qlNSUjR9+nTZbDaVlpaqoqJCWVlZysrKUkVFhRISErRixYrg7KpVq7R+/XrNnDlTqamp2rBhg3JycoKfQh4Jn3/k5XOe/9eWOyYpCQAAAAAgloVVtLdv3y5JWrhwYcj6c889p/vvv1+StHHjRvX392vNmjXq6upSXl6eGhoalJSUFJzfunWr4uLitHz5cvX396uwsFA7d+7U1KlTx7cbAAAAAAAiLOyXjp+PzWaT1+uV1+sdc2batGmqqalRTU1NOJcHAAAAACDqjet7tAEAAAAAQCiKNgAAAAAAFqJoAwAAAABgIYo2AAAAAAAWomgDAAAAAGAhijYAAAAAABaiaAMAAAAAYCGKNgAAAAAAFqJoAwAAAABgIYo2AAAAAAAWomgDAAAAAGAhijYAAAAAABaiaAMAAAAAYCGKNgAAAAAAFqJoAwAAAABgIYo2AAAAAAAWomgDAAAAAGAhijYAAAAAABaiaAMAAAAAYCGKNgAAAAAAFqJoAwAAAABgIYo2AAAAAAAWCrtoHzhwQHfeeafcbrdsNpt+//vfh5w3xsjr9crtdmv69OlauHCh2traQmb8fr9KSkqUlpamxMRELV26VCdOnBjXRgAAAAAAiAZhF+3Tp09r7ty5qq2tHfV8VVWVqqurVVtbq+bmZrlcLhUVFamnpyc4U1paqvr6etXV1engwYPq7e1VcXGxBgcHL34nAAAAAABEgbhwH7BkyRItWbJk1HPGGG3btk2bNm3SsmXLJEm7du2S0+nUnj17tHr1ap06dUo7duzQCy+8oEWLFkmSdu/erYyMDO3bt0+LFy8ex3YAAAAAAIissIv2uRw7dkwdHR3yeDzBNYfDoQULFqipqUmrV69WS0uLAoFAyIzb7VZ2draamppGLdp+v19+vz943N3dLUkKBAIKBALnzTU845hiLnpvF3Idqw1fMxLXHg9yT55YzCxZlzvW9g0AAIDPBkuLdkdHhyTJ6XSGrDudTh0/fjw4Ex8frxkzZoyYGX782SorK7V58+YR6w0NDUpISLjgfD+bP3TBs2fbu3fvRT92vHw+X8SuPR7knjyxmFkaf+6+vj6LkgAAAADWsbRoD7PZbCHHxpgRa2c710x5ebnKysqCx93d3crIyJDH41FycvJ58wQCAfl8Pv3k8BT5h86dYyxHvZP/kvbh3EVFRbLb7ZN+/YtF7skTi5kl63IPv7oFAAAAiCaWFm2XyyXpk7vW6enpwfXOzs7gXW6Xy6WBgQF1dXWF3NXu7OxUQUHBqM/rcDjkcDhGrNvt9rB+SfcP2eQfvLiiHckSE+4+owW5J08sZpbGnzsW9wwAAIBLn6Xfo52ZmSmXyxXyctCBgQE1NjYGS3Rubq7sdnvITHt7u44ePTpm0QYAAAAAIFaEfUe7t7dX//jHP4LHx44d05EjR5SamqorrrhCpaWlqqioUFZWlrKyslRRUaGEhAStWLFCkpSSkqJVq1Zp/fr1mjlzplJTU7Vhwwbl5OQEP4UcAAAAAIBYFXbRPnz4sG677bbg8fB7p1euXKmdO3dq48aN6u/v15o1a9TV1aW8vDw1NDQoKSkp+JitW7cqLi5Oy5cvV39/vwoLC7Vz505NnTrVgi0BAAAAABA5YRfthQsXypixvybLZrPJ6/XK6/WOOTNt2jTV1NSopqYm3MsDAAAAABDVLH2PNgAAAAAAn3UUbQAAAAAALETRBgAAAADAQhRtAAAAAAAsRNEGAAAAAMBCFG0AAAAAACxE0QYAAAAAwEIUbQAAAAAALETRBgAAAADAQhRtAAAAAAAsRNEGAAAAAMBCcZEOECs+/8jLE/bc/9pyx4Q9NwAAAABgcnFHGwAAAAAAC1G0AQAAAACwEEUbAAAAAAALUbQBAAAAALAQRRsAAAAAAAtRtAEAAAAAsBBFGwAAAAAAC1G0AQAAAACwEEUbAAAAAAALUbQBAAAAALBQXCQv/swzz+iJJ55Qe3u7brjhBm3btk1f/epXIxkpIj7/yMujrjumGlV9ZZLDAAAAAADGJWJF+ze/+Y1KS0v1zDPP6Oabb9Yvf/lLLVmyRG+++aauuOKKSMWKStneP8k/aJuw5//Xljsm7LkBAAAA4LMmYkW7urpaq1at0ve//31J0rZt2/SnP/1J27dvV2VlZaRiIcaM9WoAif+AAAAAACAyIlK0BwYG1NLSokceeSRk3ePxqKmpacS83++X3+8PHp86dUqSdPLkSQUCgfNeLxAIqK+vT3GBKRocmrg7w1aLGzLq6xua8Nwffvihpc83/Of94Ycf6pb/PTCu5/pbeeE5z8edOT3muXD39encdrs9rMdGSixmzqv8P3JMMfrxvCF9adOL8p/17/b5/s4/raenR5JkjLE0IwAAADAeESnaH3zwgQYHB+V0OkPWnU6nOjo6RsxXVlZq8+bNI9YzMzMnLGO0WDEJ10h7chIucpHGky2a94Wx/92+mL+3np4epaSkjCsPAAAAYJWIfhiazRZ6J8sYM2JNksrLy1VWVhY8Hhoa0smTJzVz5sxR58/W3d2tjIwMvffee0pOTh5/8ElC7skVi7ljMbNkXW5jjHp6euR2uy1MBwAAAIxPRIp2Wlqapk6dOuLudWdn54i73JLkcDjkcDhC1i6//PKwr5ucnBxTZWQYuSdXLOaOxcySNbm5kw0AAIBoE5Hv0Y6Pj1dubq58Pl/Ius/nU0FBQSQiAQAAAABgiYi9dLysrEz33Xef5s+fr/z8fD377LN699139eCDD0YqEgAAAAAA4xaxon333Xfrww8/1E9/+lO1t7crOztbe/fu1ZVXXmn5tRwOhx599NERLz+PduSeXLGYOxYzS7GbGwAAALgQNsP34gAAAAAAYJmIvEcbAAAAAIBLFUUbAAAAAAALUbQBAAAAALAQRRsAAAAAAAt9Jor2M888o8zMTE2bNk25ubn661//GrEsBw4c0J133im32y2bzabf//73IeeNMfJ6vXK73Zo+fboWLlyotra2kBm/36+SkhKlpaUpMTFRS5cu1YkTJyYsc2Vlpb785S8rKSlJs2bN0l133aW333476nNv375dc+bMUXJyspKTk5Wfn69XXnklqjOPprKyUjabTaWlpVGd3ev1ymazhfy4XK6ozgwAAABMhEu+aP/mN79RaWmpNm3apNdff11f/epXtWTJEr377rsRyXP69GnNnTtXtbW1o56vqqpSdXW1amtr1dzcLJfLpaKiIvX09ARnSktLVV9fr7q6Oh08eFC9vb0qLi7W4ODghGRubGzU2rVrdejQIfl8Pp05c0Yej0enT5+O6tyzZ8/Wli1bdPjwYR0+fFi33367vvGNbwTLXTRmPltzc7OeffZZzZkzJ2Q9WrPfcMMNam9vD/60trZGfWYAAADAcuYS95WvfMU8+OCDIWvXXnuteeSRRyKU6P+TZOrr64PHQ0NDxuVymS1btgTXPv74Y5OSkmJ+8YtfGGOM+eijj4zdbjd1dXXBmX//+99mypQp5tVXX52U3J2dnUaSaWxsjKncxhgzY8YM8+tf/zomMvf09JisrCzj8/nMggULzEMPPWSMid4/70cffdTMnTt31HPRmhkAAACYCJf0He2BgQG1tLTI4/GErHs8HjU1NUUo1diOHTumjo6OkLwOh0MLFiwI5m1paVEgEAiZcbvdys7OnrQ9nTp1SpKUmpoaM7kHBwdVV1en06dPKz8/PyYyr127VnfccYcWLVoUsh7N2d955x253W5lZmbq29/+tv75z39GfWYAAADAanGRDjCRPvjgAw0ODsrpdIasO51OdXR0RCjV2IYzjZb3+PHjwZn4+HjNmDFjxMxk7MkYo7KyMt1yyy3Kzs6O+tytra3Kz8/Xxx9/rMsuu0z19fW6/vrrg8UtGjNLUl1dnV577TU1NzePOBetf955eXl6/vnndc011+j999/XY489poKCArW1tUVtZgAAAGAiXNJFe5jNZgs5NsaMWIsmF5N3sva0bt06vfHGGzp48OCIc9GY+4tf/KKOHDmijz76SL/73e+0cuVKNTY2Bs9HY+b33ntPDz30kBoaGjRt2rQx56It+5IlS4L/nJOTo/z8fH3hC1/Qrl27dNNNN0mKvswAAADARLikXzqelpamqVOnjrgb1tnZOeLOWjQY/oTmc+V1uVwaGBhQV1fXmDMTpaSkRC+99JL+8pe/aPbs2TGROz4+XldffbXmz5+vyspKzZ07V0899VRUZ25paVFnZ6dyc3MVFxenuLg4NTY26uc//7ni4uKC147G7J+WmJionJwcvfPOO1H95w0AAABY7ZIu2vHx8crNzZXP5wtZ9/l8KigoiFCqsWVmZsrlcoXkHRgYUGNjYzBvbm6u7HZ7yEx7e7uOHj06YXsyxmjdunV68cUX9ec//1mZmZkxkXs0xhj5/f6ozlxYWKjW1lYdOXIk+DN//nzde++9OnLkiK666qqozf5pfr9fb731ltLT06P6zxsAAACwXCQ+gW0y1dXVGbvdbnbs2GHefPNNU1paahITE82//vWviOTp6ekxr7/+unn99deNJFNdXW1ef/11c/z4cWOMMVu2bDEpKSnmxRdfNK2treaee+4x6enppru7O/gcDz74oJk9e7bZt2+fee2118ztt99u5s6da86cOTMhmX/wgx+YlJQUs3//ftPe3h786evrC85EY+7y8nJz4MABc+zYMfPGG2+YH/3oR2bKlCmmoaEhajOP5dOfOh6t2devX2/2799v/vnPf5pDhw6Z4uJik5SUFPzfWjRmBgAAACbCJV+0jTHm6aefNldeeaWJj483N954Y/BrqSLhL3/5i5E04mflypXGmE++BunRRx81LpfLOBwOc+utt5rW1taQ5+jv7zfr1q0zqampZvr06aa4uNi8++67E5Z5tLySzHPPPRecicbc3/ve94J/75/73OdMYWFhsGRHa+axnF20ozH73XffbdLT043dbjdut9ssW7bMtLW1RXVmAAAAYCLYjDEmMvfSAQAAAAC49FzS79EGAAAAAGCyUbQBAAAAALAQRRsAAAAAAAtRtAEAAAAAsBBFGwAAAAAAC1G0AQAAAACwEEUbAAAAAAALUbQBAAAAALAQRRsAAAAAAAtRtAEAAAAAsBBFGwAAAAAAC1G0AQAAAACw0P8FkRj379j/eaAAAAAASUVORK5CYII=\n",
      "text/plain": [
       "<Figure size 1200x800 with 9 Axes>"
      ]
     },
     "metadata": {},
     "output_type": "display_data"
    }
   ],
   "source": [
    "train_data.hist(bins=30, figsize=(12, 8))"
   ]
  },
  {
   "cell_type": "code",
   "execution_count": 11,
   "id": "0a77a7ab",
   "metadata": {
    "execution": {
     "iopub.execute_input": "2023-04-04T19:59:35.945622Z",
     "iopub.status.busy": "2023-04-04T19:59:35.945137Z",
     "iopub.status.idle": "2023-04-04T19:59:36.549401Z",
     "shell.execute_reply": "2023-04-04T19:59:36.548102Z"
    },
    "papermill": {
     "duration": 0.619406,
     "end_time": "2023-04-04T19:59:36.552980",
     "exception": false,
     "start_time": "2023-04-04T19:59:35.933574",
     "status": "completed"
    },
    "tags": []
   },
   "outputs": [
    {
     "data": {
      "text/plain": [
       "<AxesSubplot:ylabel='Frequency'>"
      ]
     },
     "execution_count": 11,
     "metadata": {},
     "output_type": "execute_result"
    },
    {
     "data": {
      "image/png": "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\n",
      "text/plain": [
       "<Figure size 1500x700 with 3 Axes>"
      ]
     },
     "metadata": {},
     "output_type": "display_data"
    }
   ],
   "source": [
    "fig, axes = plt.subplots(1, 3, sharey=True, figsize=(15, 7))\n",
    "train_data.plot.hist(x='Age',y ='Survived',ax = axes[0])\n",
    "train_data.plot.hist(x='Survived',y ='Pclass',ax = axes[1])\n",
    "train_data.plot.hist(x='Fare',y ='Survived',ax = axes[2])"
   ]
  },
  {
   "cell_type": "code",
   "execution_count": 12,
   "id": "6b6b40bd",
   "metadata": {
    "execution": {
     "iopub.execute_input": "2023-04-04T19:59:36.576342Z",
     "iopub.status.busy": "2023-04-04T19:59:36.575934Z",
     "iopub.status.idle": "2023-04-04T19:59:36.963344Z",
     "shell.execute_reply": "2023-04-04T19:59:36.961391Z"
    },
    "papermill": {
     "duration": 0.402613,
     "end_time": "2023-04-04T19:59:36.965705",
     "exception": false,
     "start_time": "2023-04-04T19:59:36.563092",
     "status": "completed"
    },
    "tags": []
   },
   "outputs": [
    {
     "data": {
      "text/plain": [
       "<AxesSubplot:ylabel='Frequency'>"
      ]
     },
     "execution_count": 12,
     "metadata": {},
     "output_type": "execute_result"
    },
    {
     "data": {
      "image/png": "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\n",
      "text/plain": [
       "<Figure size 640x480 with 1 Axes>"
      ]
     },
     "metadata": {},
     "output_type": "display_data"
    }
   ],
   "source": [
    "train_data.plot.hist(x='Sex',y ='Survived')"
   ]
  },
  {
   "cell_type": "code",
   "execution_count": 13,
   "id": "f22ceb4e",
   "metadata": {
    "execution": {
     "iopub.execute_input": "2023-04-04T19:59:36.988596Z",
     "iopub.status.busy": "2023-04-04T19:59:36.987905Z",
     "iopub.status.idle": "2023-04-04T19:59:36.997548Z",
     "shell.execute_reply": "2023-04-04T19:59:36.996430Z"
    },
    "papermill": {
     "duration": 0.024613,
     "end_time": "2023-04-04T19:59:37.000668",
     "exception": false,
     "start_time": "2023-04-04T19:59:36.976055",
     "status": "completed"
    },
    "tags": []
   },
   "outputs": [
    {
     "data": {
      "text/plain": [
       "PassengerId      0\n",
       "Survived         0\n",
       "Pclass           0\n",
       "Name             0\n",
       "Sex              0\n",
       "Age            177\n",
       "SibSp            0\n",
       "Parch            0\n",
       "Ticket           0\n",
       "Fare             0\n",
       "Cabin          687\n",
       "Embarked         2\n",
       "dtype: int64"
      ]
     },
     "execution_count": 13,
     "metadata": {},
     "output_type": "execute_result"
    }
   ],
   "source": [
    "train_data.isnull().sum()"
   ]
  },
  {
   "cell_type": "code",
   "execution_count": 14,
   "id": "2fa65a87",
   "metadata": {
    "execution": {
     "iopub.execute_input": "2023-04-04T19:59:37.023492Z",
     "iopub.status.busy": "2023-04-04T19:59:37.023026Z",
     "iopub.status.idle": "2023-04-04T19:59:37.031838Z",
     "shell.execute_reply": "2023-04-04T19:59:37.030984Z"
    },
    "papermill": {
     "duration": 0.022518,
     "end_time": "2023-04-04T19:59:37.033816",
     "exception": false,
     "start_time": "2023-04-04T19:59:37.011298",
     "status": "completed"
    },
    "tags": []
   },
   "outputs": [
    {
     "data": {
      "text/plain": [
       "B96 B98        4\n",
       "G6             4\n",
       "C23 C25 C27    4\n",
       "C22 C26        3\n",
       "F33            3\n",
       "              ..\n",
       "E34            1\n",
       "C7             1\n",
       "C54            1\n",
       "E36            1\n",
       "C148           1\n",
       "Name: Cabin, Length: 147, dtype: int64"
      ]
     },
     "execution_count": 14,
     "metadata": {},
     "output_type": "execute_result"
    }
   ],
   "source": [
    "train_data['Cabin'].value_counts(dropna = 'False')"
   ]
  },
  {
   "cell_type": "code",
   "execution_count": 15,
   "id": "b69edcca",
   "metadata": {
    "execution": {
     "iopub.execute_input": "2023-04-04T19:59:37.057065Z",
     "iopub.status.busy": "2023-04-04T19:59:37.056440Z",
     "iopub.status.idle": "2023-04-04T19:59:37.067165Z",
     "shell.execute_reply": "2023-04-04T19:59:37.065874Z"
    },
    "papermill": {
     "duration": 0.024949,
     "end_time": "2023-04-04T19:59:37.069394",
     "exception": false,
     "start_time": "2023-04-04T19:59:37.044445",
     "status": "completed"
    },
    "tags": []
   },
   "outputs": [],
   "source": [
    "imp = SimpleImputer(strategy = 'most_frequent')\n",
    "train_data[['Embarked']] = imp.fit_transform(train_data[['Embarked']])"
   ]
  },
  {
   "cell_type": "code",
   "execution_count": 16,
   "id": "fb99aa24",
   "metadata": {
    "execution": {
     "iopub.execute_input": "2023-04-04T19:59:37.092495Z",
     "iopub.status.busy": "2023-04-04T19:59:37.091429Z",
     "iopub.status.idle": "2023-04-04T19:59:37.099017Z",
     "shell.execute_reply": "2023-04-04T19:59:37.098219Z"
    },
    "papermill": {
     "duration": 0.021456,
     "end_time": "2023-04-04T19:59:37.101168",
     "exception": false,
     "start_time": "2023-04-04T19:59:37.079712",
     "status": "completed"
    },
    "tags": []
   },
   "outputs": [],
   "source": [
    "from sklearn.preprocessing import LabelEncoder\n",
    "encoder = LabelEncoder()\n",
    "train_data['Sex'] = encoder.fit_transform(train_data['Sex'])\n",
    "train_data['Embarked'] = encoder.fit_transform(train_data['Embarked'])"
   ]
  },
  {
   "cell_type": "code",
   "execution_count": 17,
   "id": "65edfffd",
   "metadata": {
    "execution": {
     "iopub.execute_input": "2023-04-04T19:59:37.124603Z",
     "iopub.status.busy": "2023-04-04T19:59:37.123516Z",
     "iopub.status.idle": "2023-04-04T19:59:37.137097Z",
     "shell.execute_reply": "2023-04-04T19:59:37.136144Z"
    },
    "papermill": {
     "duration": 0.027668,
     "end_time": "2023-04-04T19:59:37.139337",
     "exception": false,
     "start_time": "2023-04-04T19:59:37.111669",
     "status": "completed"
    },
    "tags": []
   },
   "outputs": [
    {
     "name": "stdout",
     "output_type": "stream",
     "text": [
      "<class 'pandas.core.frame.DataFrame'>\n",
      "RangeIndex: 891 entries, 0 to 890\n",
      "Data columns (total 12 columns):\n",
      " #   Column       Non-Null Count  Dtype  \n",
      "---  ------       --------------  -----  \n",
      " 0   PassengerId  891 non-null    int64  \n",
      " 1   Survived     891 non-null    int64  \n",
      " 2   Pclass       891 non-null    int64  \n",
      " 3   Name         891 non-null    object \n",
      " 4   Sex          891 non-null    int64  \n",
      " 5   Age          714 non-null    float64\n",
      " 6   SibSp        891 non-null    int64  \n",
      " 7   Parch        891 non-null    int64  \n",
      " 8   Ticket       891 non-null    object \n",
      " 9   Fare         891 non-null    float64\n",
      " 10  Cabin        204 non-null    object \n",
      " 11  Embarked     891 non-null    int64  \n",
      "dtypes: float64(2), int64(7), object(3)\n",
      "memory usage: 83.7+ KB\n"
     ]
    }
   ],
   "source": [
    "train_data.info()"
   ]
  },
  {
   "cell_type": "code",
   "execution_count": 18,
   "id": "90e7b47d",
   "metadata": {
    "execution": {
     "iopub.execute_input": "2023-04-04T19:59:37.162723Z",
     "iopub.status.busy": "2023-04-04T19:59:37.161739Z",
     "iopub.status.idle": "2023-04-04T19:59:37.171915Z",
     "shell.execute_reply": "2023-04-04T19:59:37.170736Z"
    },
    "papermill": {
     "duration": 0.024643,
     "end_time": "2023-04-04T19:59:37.174515",
     "exception": false,
     "start_time": "2023-04-04T19:59:37.149872",
     "status": "completed"
    },
    "tags": []
   },
   "outputs": [],
   "source": [
    "imp = SimpleImputer(strategy = 'mean')\n",
    "train_data[['Age']] = imp.fit_transform(train_data[['Age']])"
   ]
  },
  {
   "cell_type": "code",
   "execution_count": 19,
   "id": "60cfd5ca",
   "metadata": {
    "execution": {
     "iopub.execute_input": "2023-04-04T19:59:37.197207Z",
     "iopub.status.busy": "2023-04-04T19:59:37.196811Z",
     "iopub.status.idle": "2023-04-04T19:59:37.203779Z",
     "shell.execute_reply": "2023-04-04T19:59:37.202406Z"
    },
    "papermill": {
     "duration": 0.021054,
     "end_time": "2023-04-04T19:59:37.206019",
     "exception": false,
     "start_time": "2023-04-04T19:59:37.184965",
     "status": "completed"
    },
    "tags": []
   },
   "outputs": [],
   "source": [
    "X = train_data.drop(['Survived','Cabin','Name','Ticket'],axis = 1)\n",
    "y = train_data['Survived']"
   ]
  },
  {
   "cell_type": "code",
   "execution_count": 20,
   "id": "73219a0a",
   "metadata": {
    "execution": {
     "iopub.execute_input": "2023-04-04T19:59:37.229431Z",
     "iopub.status.busy": "2023-04-04T19:59:37.228714Z",
     "iopub.status.idle": "2023-04-04T19:59:37.236918Z",
     "shell.execute_reply": "2023-04-04T19:59:37.235901Z"
    },
    "papermill": {
     "duration": 0.022569,
     "end_time": "2023-04-04T19:59:37.239242",
     "exception": false,
     "start_time": "2023-04-04T19:59:37.216673",
     "status": "completed"
    },
    "tags": []
   },
   "outputs": [],
   "source": [
    "from sklearn.model_selection import train_test_split\n",
    "X_train, X_test, y_train, y_test = train_test_split(X, y, test_size = 0.25, random_state=42)"
   ]
  },
  {
   "cell_type": "code",
   "execution_count": 21,
   "id": "1ac63be3",
   "metadata": {
    "execution": {
     "iopub.execute_input": "2023-04-04T19:59:37.262608Z",
     "iopub.status.busy": "2023-04-04T19:59:37.261895Z",
     "iopub.status.idle": "2023-04-04T19:59:37.270415Z",
     "shell.execute_reply": "2023-04-04T19:59:37.269344Z"
    },
    "papermill": {
     "duration": 0.022959,
     "end_time": "2023-04-04T19:59:37.272691",
     "exception": false,
     "start_time": "2023-04-04T19:59:37.249732",
     "status": "completed"
    },
    "tags": []
   },
   "outputs": [
    {
     "data": {
      "text/plain": [
       "298    1\n",
       "884    0\n",
       "247    1\n",
       "478    0\n",
       "305    1\n",
       "      ..\n",
       "106    1\n",
       "270    0\n",
       "860    0\n",
       "435    1\n",
       "102    0\n",
       "Name: Survived, Length: 668, dtype: int64"
      ]
     },
     "execution_count": 21,
     "metadata": {},
     "output_type": "execute_result"
    }
   ],
   "source": [
    "y_train"
   ]
  },
  {
   "cell_type": "code",
   "execution_count": 22,
   "id": "98251dc5",
   "metadata": {
    "execution": {
     "iopub.execute_input": "2023-04-04T19:59:37.296262Z",
     "iopub.status.busy": "2023-04-04T19:59:37.295584Z",
     "iopub.status.idle": "2023-04-04T19:59:37.650604Z",
     "shell.execute_reply": "2023-04-04T19:59:37.649504Z"
    },
    "papermill": {
     "duration": 0.370177,
     "end_time": "2023-04-04T19:59:37.653494",
     "exception": false,
     "start_time": "2023-04-04T19:59:37.283317",
     "status": "completed"
    },
    "tags": []
   },
   "outputs": [],
   "source": [
    "from catboost import CatBoostClassifier"
   ]
  },
  {
   "cell_type": "code",
   "execution_count": 23,
   "id": "ee1daae4",
   "metadata": {
    "execution": {
     "iopub.execute_input": "2023-04-04T19:59:37.676979Z",
     "iopub.status.busy": "2023-04-04T19:59:37.676596Z",
     "iopub.status.idle": "2023-04-04T19:59:39.039257Z",
     "shell.execute_reply": "2023-04-04T19:59:39.038098Z"
    },
    "papermill": {
     "duration": 1.377157,
     "end_time": "2023-04-04T19:59:39.041767",
     "exception": false,
     "start_time": "2023-04-04T19:59:37.664610",
     "status": "completed"
    },
    "tags": []
   },
   "outputs": [
    {
     "data": {
      "text/plain": [
       "0.9146706586826348"
      ]
     },
     "execution_count": 23,
     "metadata": {},
     "output_type": "execute_result"
    }
   ],
   "source": [
    "model = CatBoostClassifier(verbose = 0)\n",
    "model.fit(X_train,y_train)\n",
    "model.score(X_train,y_train)"
   ]
  },
  {
   "cell_type": "code",
   "execution_count": 24,
   "id": "3f9e3bb4",
   "metadata": {
    "execution": {
     "iopub.execute_input": "2023-04-04T19:59:39.065930Z",
     "iopub.status.busy": "2023-04-04T19:59:39.065524Z",
     "iopub.status.idle": "2023-04-04T19:59:39.074827Z",
     "shell.execute_reply": "2023-04-04T19:59:39.073761Z"
    },
    "papermill": {
     "duration": 0.02394,
     "end_time": "2023-04-04T19:59:39.077076",
     "exception": false,
     "start_time": "2023-04-04T19:59:39.053136",
     "status": "completed"
    },
    "tags": []
   },
   "outputs": [
    {
     "data": {
      "text/plain": [
       "PassengerId      0\n",
       "Pclass           0\n",
       "Name             0\n",
       "Sex              0\n",
       "Age             86\n",
       "SibSp            0\n",
       "Parch            0\n",
       "Ticket           0\n",
       "Fare             1\n",
       "Cabin          327\n",
       "Embarked         0\n",
       "dtype: int64"
      ]
     },
     "execution_count": 24,
     "metadata": {},
     "output_type": "execute_result"
    }
   ],
   "source": [
    "test_data.isnull().sum()"
   ]
  },
  {
   "cell_type": "code",
   "execution_count": 25,
   "id": "8174550c",
   "metadata": {
    "execution": {
     "iopub.execute_input": "2023-04-04T19:59:39.100993Z",
     "iopub.status.busy": "2023-04-04T19:59:39.100609Z",
     "iopub.status.idle": "2023-04-04T19:59:39.107952Z",
     "shell.execute_reply": "2023-04-04T19:59:39.106986Z"
    },
    "papermill": {
     "duration": 0.022257,
     "end_time": "2023-04-04T19:59:39.110380",
     "exception": false,
     "start_time": "2023-04-04T19:59:39.088123",
     "status": "completed"
    },
    "tags": []
   },
   "outputs": [],
   "source": [
    "test_data.drop(['Cabin','Name','Ticket'],axis = 1,inplace = True)"
   ]
  },
  {
   "cell_type": "code",
   "execution_count": 26,
   "id": "ebecf930",
   "metadata": {
    "execution": {
     "iopub.execute_input": "2023-04-04T19:59:39.134766Z",
     "iopub.status.busy": "2023-04-04T19:59:39.133768Z",
     "iopub.status.idle": "2023-04-04T19:59:39.140773Z",
     "shell.execute_reply": "2023-04-04T19:59:39.139709Z"
    },
    "papermill": {
     "duration": 0.022262,
     "end_time": "2023-04-04T19:59:39.143549",
     "exception": false,
     "start_time": "2023-04-04T19:59:39.121287",
     "status": "completed"
    },
    "tags": []
   },
   "outputs": [],
   "source": [
    "from sklearn.preprocessing import LabelEncoder\n",
    "encoder = LabelEncoder()\n",
    "test_data['Sex'] = encoder.fit_transform(test_data['Sex'])\n",
    "test_data['Embarked'] = encoder.fit_transform(test_data['Embarked'])"
   ]
  },
  {
   "cell_type": "code",
   "execution_count": 27,
   "id": "4bf5d21f",
   "metadata": {
    "execution": {
     "iopub.execute_input": "2023-04-04T19:59:39.167192Z",
     "iopub.status.busy": "2023-04-04T19:59:39.166778Z",
     "iopub.status.idle": "2023-04-04T19:59:39.182456Z",
     "shell.execute_reply": "2023-04-04T19:59:39.181330Z"
    },
    "papermill": {
     "duration": 0.030477,
     "end_time": "2023-04-04T19:59:39.184994",
     "exception": false,
     "start_time": "2023-04-04T19:59:39.154517",
     "status": "completed"
    },
    "tags": []
   },
   "outputs": [],
   "source": [
    "imp = SimpleImputer(strategy = 'mean')\n",
    "test_data[['Age']] = imp.fit_transform(test_data[['Age']])\n",
    "test_data[['Fare']] = imp.fit_transform(test_data[['Fare']])"
   ]
  },
  {
   "cell_type": "code",
   "execution_count": 28,
   "id": "9451f41a",
   "metadata": {
    "execution": {
     "iopub.execute_input": "2023-04-04T19:59:39.208314Z",
     "iopub.status.busy": "2023-04-04T19:59:39.207916Z",
     "iopub.status.idle": "2023-04-04T19:59:39.214779Z",
     "shell.execute_reply": "2023-04-04T19:59:39.213785Z"
    },
    "papermill": {
     "duration": 0.021376,
     "end_time": "2023-04-04T19:59:39.217188",
     "exception": false,
     "start_time": "2023-04-04T19:59:39.195812",
     "status": "completed"
    },
    "tags": []
   },
   "outputs": [],
   "source": [
    "pred = model.predict(test_data)"
   ]
  },
  {
   "cell_type": "code",
   "execution_count": 29,
   "id": "f7bc52de",
   "metadata": {
    "execution": {
     "iopub.execute_input": "2023-04-04T19:59:39.241522Z",
     "iopub.status.busy": "2023-04-04T19:59:39.240529Z",
     "iopub.status.idle": "2023-04-04T19:59:39.257836Z",
     "shell.execute_reply": "2023-04-04T19:59:39.256709Z"
    },
    "papermill": {
     "duration": 0.032179,
     "end_time": "2023-04-04T19:59:39.260354",
     "exception": false,
     "start_time": "2023-04-04T19:59:39.228175",
     "status": "completed"
    },
    "tags": []
   },
   "outputs": [
    {
     "data": {
      "text/html": [
       "<div>\n",
       "<style scoped>\n",
       "    .dataframe tbody tr th:only-of-type {\n",
       "        vertical-align: middle;\n",
       "    }\n",
       "\n",
       "    .dataframe tbody tr th {\n",
       "        vertical-align: top;\n",
       "    }\n",
       "\n",
       "    .dataframe thead th {\n",
       "        text-align: right;\n",
       "    }\n",
       "</style>\n",
       "<table border=\"1\" class=\"dataframe\">\n",
       "  <thead>\n",
       "    <tr style=\"text-align: right;\">\n",
       "      <th></th>\n",
       "      <th>PassengerId</th>\n",
       "      <th>Survived</th>\n",
       "    </tr>\n",
       "  </thead>\n",
       "  <tbody>\n",
       "    <tr>\n",
       "      <th>0</th>\n",
       "      <td>892</td>\n",
       "      <td>0</td>\n",
       "    </tr>\n",
       "    <tr>\n",
       "      <th>1</th>\n",
       "      <td>893</td>\n",
       "      <td>1</td>\n",
       "    </tr>\n",
       "    <tr>\n",
       "      <th>2</th>\n",
       "      <td>894</td>\n",
       "      <td>0</td>\n",
       "    </tr>\n",
       "    <tr>\n",
       "      <th>3</th>\n",
       "      <td>895</td>\n",
       "      <td>0</td>\n",
       "    </tr>\n",
       "    <tr>\n",
       "      <th>4</th>\n",
       "      <td>896</td>\n",
       "      <td>1</td>\n",
       "    </tr>\n",
       "    <tr>\n",
       "      <th>...</th>\n",
       "      <td>...</td>\n",
       "      <td>...</td>\n",
       "    </tr>\n",
       "    <tr>\n",
       "      <th>413</th>\n",
       "      <td>1305</td>\n",
       "      <td>0</td>\n",
       "    </tr>\n",
       "    <tr>\n",
       "      <th>414</th>\n",
       "      <td>1306</td>\n",
       "      <td>1</td>\n",
       "    </tr>\n",
       "    <tr>\n",
       "      <th>415</th>\n",
       "      <td>1307</td>\n",
       "      <td>0</td>\n",
       "    </tr>\n",
       "    <tr>\n",
       "      <th>416</th>\n",
       "      <td>1308</td>\n",
       "      <td>0</td>\n",
       "    </tr>\n",
       "    <tr>\n",
       "      <th>417</th>\n",
       "      <td>1309</td>\n",
       "      <td>0</td>\n",
       "    </tr>\n",
       "  </tbody>\n",
       "</table>\n",
       "<p>418 rows × 2 columns</p>\n",
       "</div>"
      ],
      "text/plain": [
       "     PassengerId  Survived\n",
       "0            892         0\n",
       "1            893         1\n",
       "2            894         0\n",
       "3            895         0\n",
       "4            896         1\n",
       "..           ...       ...\n",
       "413         1305         0\n",
       "414         1306         1\n",
       "415         1307         0\n",
       "416         1308         0\n",
       "417         1309         0\n",
       "\n",
       "[418 rows x 2 columns]"
      ]
     },
     "execution_count": 29,
     "metadata": {},
     "output_type": "execute_result"
    }
   ],
   "source": [
    "df = pd.read_csv(\"/kaggle/input/titanic/gender_submission.csv\")\n",
    "df"
   ]
  },
  {
   "cell_type": "code",
   "execution_count": 30,
   "id": "8ad58b20",
   "metadata": {
    "execution": {
     "iopub.execute_input": "2023-04-04T19:59:39.285066Z",
     "iopub.status.busy": "2023-04-04T19:59:39.284669Z",
     "iopub.status.idle": "2023-04-04T19:59:39.296106Z",
     "shell.execute_reply": "2023-04-04T19:59:39.295088Z"
    },
    "papermill": {
     "duration": 0.026694,
     "end_time": "2023-04-04T19:59:39.298563",
     "exception": false,
     "start_time": "2023-04-04T19:59:39.271869",
     "status": "completed"
    },
    "tags": []
   },
   "outputs": [],
   "source": [
    "output = pd.DataFrame({'PassengerId': test_data['PassengerId'],\n",
    "                       'Survived': pred})\n",
    "\n",
    "output.to_csv('submission.csv', index=False)"
   ]
  },
  {
   "cell_type": "code",
   "execution_count": null,
   "id": "6d3a6646",
   "metadata": {
    "papermill": {
     "duration": 0.01082,
     "end_time": "2023-04-04T19:59:39.320809",
     "exception": false,
     "start_time": "2023-04-04T19:59:39.309989",
     "status": "completed"
    },
    "tags": []
   },
   "outputs": [],
   "source": []
  }
 ],
 "metadata": {
  "kernelspec": {
   "display_name": "Python 3",
   "language": "python",
   "name": "python3"
  },
  "language_info": {
   "codemirror_mode": {
    "name": "ipython",
    "version": 3
   },
   "file_extension": ".py",
   "mimetype": "text/x-python",
   "name": "python",
   "nbconvert_exporter": "python",
   "pygments_lexer": "ipython3",
   "version": "3.7.12"
  },
  "papermill": {
   "default_parameters": {},
   "duration": 17.075215,
   "end_time": "2023-04-04T19:59:40.154808",
   "environment_variables": {},
   "exception": null,
   "input_path": "__notebook__.ipynb",
   "output_path": "__notebook__.ipynb",
   "parameters": {},
   "start_time": "2023-04-04T19:59:23.079593",
   "version": "2.4.0"
  }
 },
 "nbformat": 4,
 "nbformat_minor": 5
}
